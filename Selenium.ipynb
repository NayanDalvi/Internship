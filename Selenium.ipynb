{
 "cells": [
  {
   "cell_type": "markdown",
   "id": "4635430a",
   "metadata": {},
   "source": [
    "# Q1: Write a python program to scrape data for “Data Analyst” Job position in “Bangalore” location. You have to scrape the job-title, job-location, company_name, experience_required. You have to scrape first 10 jobs data.\n",
    "\n"
   ]
  },
  {
   "cell_type": "code",
   "execution_count": 86,
   "id": "0804a614",
   "metadata": {},
   "outputs": [],
   "source": [
    "import selenium\n",
    "import pandas as pd\n",
    "from selenium import webdriver\n",
    "import warnings\n",
    "warnings.filterwarnings('ignore')\n",
    "from selenium.common.exceptions import StaleElementReferenceException, NoSuchElementException\n",
    "from selenium.webdriver.common.by import By\n",
    "import time\n",
    "import numpy as np\n",
    "\n"
   ]
  },
  {
   "cell_type": "code",
   "execution_count": 87,
   "id": "f6b2d4a6",
   "metadata": {},
   "outputs": [],
   "source": [
    "driver = webdriver.Chrome(r'C:\\chromedriver_win32\\chromedriver.exe')"
   ]
  },
  {
   "cell_type": "code",
   "execution_count": 88,
   "id": "0b4c8545",
   "metadata": {},
   "outputs": [],
   "source": [
    "#opening Naukri page on automated chrome browser\n",
    "driver.get('https://www.naukri.com/')"
   ]
  },
  {
   "cell_type": "code",
   "execution_count": 89,
   "id": "d11a173c",
   "metadata": {},
   "outputs": [],
   "source": [
    "#entering designation and location as required\n",
    "\n",
    "designation = driver.find_element(By.CLASS_NAME, \"suggestor-input\")\n",
    "designation.send_keys('Data Analyst')"
   ]
  },
  {
   "cell_type": "code",
   "execution_count": 90,
   "id": "809b0ccf",
   "metadata": {},
   "outputs": [],
   "source": [
    "location = driver.find_element(By.XPATH, '/html/body/div[1]/div[6]/div/div/div[5]/div/div/div/input')\n",
    "location.send_keys('Bangalore')"
   ]
  },
  {
   "cell_type": "code",
   "execution_count": 91,
   "id": "bdc208db",
   "metadata": {},
   "outputs": [],
   "source": [
    "search = driver.find_element(By.CLASS_NAME, \"qsbSubmit\")\n",
    "search.click()"
   ]
  },
  {
   "cell_type": "markdown",
   "id": "5733205a",
   "metadata": {},
   "source": [
    "Top 10 Result for job-title, job-location, company_name, experience_required"
   ]
  },
  {
   "cell_type": "code",
   "execution_count": 92,
   "id": "b208b45a",
   "metadata": {},
   "outputs": [],
   "source": [
    "job_title = []\n",
    "job_location = []\n",
    "company_name = []\n",
    "experience_required = []"
   ]
  },
  {
   "cell_type": "code",
   "execution_count": 93,
   "id": "a848a81a",
   "metadata": {},
   "outputs": [],
   "source": [
    "#Scraping job title fro the given page\n",
    "title_tags = driver.find_elements(By.XPATH, '//a[@class=\"title fw500 ellipsis\"]')\n",
    "for i in title_tags[0:10]:\n",
    "    title=i.text\n",
    "    job_title.append(title)\n",
    "\n",
    "#scraping location from the data\n",
    "location_tags = driver.find_elements(By.XPATH, '//li[@class=\"fleft grey-text br2 placeHolderLi location\"]')\n",
    "for i in location_tags[0:10]:\n",
    "    location=i.text\n",
    "    job_location.append(location)\n",
    "    \n",
    "#scraping comapny name\n",
    "company_tags = driver.find_elements(By.XPATH, '//a[@class=\"subTitle ellipsis fleft\"]')\n",
    "for i in company_tags[0:10]:\n",
    "    company=i.text\n",
    "    company_name.append(company)\n",
    "    \n",
    "#scraping experience required\n",
    "experience_tags = driver.find_elements(By.XPATH, '//li[@class=\"fleft grey-text br2 placeHolderLi experience\"]')\n",
    "for i in experience_tags[0:10]:\n",
    "    experience=i.text\n",
    "    experience_required.append(experience)"
   ]
  },
  {
   "cell_type": "code",
   "execution_count": 94,
   "id": "c1cafba3",
   "metadata": {},
   "outputs": [
    {
     "name": "stdout",
     "output_type": "stream",
     "text": [
      "10 10 10 10\n"
     ]
    }
   ],
   "source": [
    "print(len(job_title), len(job_location), len(company_name), len(experience_required))"
   ]
  },
  {
   "cell_type": "code",
   "execution_count": 95,
   "id": "b27327a3",
   "metadata": {},
   "outputs": [],
   "source": [
    "df=pd.DataFrame(list(zip(job_title, job_location, company_name, experience_required)))"
   ]
  },
  {
   "cell_type": "code",
   "execution_count": 96,
   "id": "cf5d80c3",
   "metadata": {},
   "outputs": [],
   "source": [
    "df.columns = ['Job Title','Location','Company','Experience required']"
   ]
  },
  {
   "cell_type": "code",
   "execution_count": 97,
   "id": "28e56377",
   "metadata": {},
   "outputs": [
    {
     "data": {
      "text/html": [
       "<div>\n",
       "<style scoped>\n",
       "    .dataframe tbody tr th:only-of-type {\n",
       "        vertical-align: middle;\n",
       "    }\n",
       "\n",
       "    .dataframe tbody tr th {\n",
       "        vertical-align: top;\n",
       "    }\n",
       "\n",
       "    .dataframe thead th {\n",
       "        text-align: right;\n",
       "    }\n",
       "</style>\n",
       "<table border=\"1\" class=\"dataframe\">\n",
       "  <thead>\n",
       "    <tr style=\"text-align: right;\">\n",
       "      <th></th>\n",
       "      <th>Job Title</th>\n",
       "      <th>Location</th>\n",
       "      <th>Company</th>\n",
       "      <th>Experience required</th>\n",
       "    </tr>\n",
       "  </thead>\n",
       "  <tbody>\n",
       "    <tr>\n",
       "      <th>0</th>\n",
       "      <td>Contractual Hiring For Top MNC || Business Dat...</td>\n",
       "      <td>Bangalore/Bengaluru</td>\n",
       "      <td>TeamLease</td>\n",
       "      <td>5-8 Yrs</td>\n",
       "    </tr>\n",
       "    <tr>\n",
       "      <th>1</th>\n",
       "      <td>Senior Data Analyst</td>\n",
       "      <td>Bangalore/Bengaluru</td>\n",
       "      <td>Optum</td>\n",
       "      <td>5-10 Yrs</td>\n",
       "    </tr>\n",
       "    <tr>\n",
       "      <th>2</th>\n",
       "      <td>Data Analyst - CRM Platform</td>\n",
       "      <td>Bangalore/Bengaluru, Mumbai, Hyderabad/Secunde...</td>\n",
       "      <td>Artech infosystem</td>\n",
       "      <td>1-6 Yrs</td>\n",
       "    </tr>\n",
       "    <tr>\n",
       "      <th>3</th>\n",
       "      <td>HCL hiring For Data Analyst</td>\n",
       "      <td>Bangalore/Bengaluru, Pune, Chennai</td>\n",
       "      <td>HCL Technologies</td>\n",
       "      <td>3-8 Yrs</td>\n",
       "    </tr>\n",
       "    <tr>\n",
       "      <th>4</th>\n",
       "      <td>Customer Data Analyst</td>\n",
       "      <td>Bangalore/Bengaluru</td>\n",
       "      <td>Oracle</td>\n",
       "      <td>1-3 Yrs</td>\n",
       "    </tr>\n",
       "    <tr>\n",
       "      <th>5</th>\n",
       "      <td>Sr. Data Analyst</td>\n",
       "      <td>Bangalore/Bengaluru, Pune</td>\n",
       "      <td>Global Indian School Education Services</td>\n",
       "      <td>6-11 Yrs</td>\n",
       "    </tr>\n",
       "    <tr>\n",
       "      <th>6</th>\n",
       "      <td>Data Analyst - FinTech</td>\n",
       "      <td>Bangalore/Bengaluru, Mumbai, Hyderabad/Secunde...</td>\n",
       "      <td>Primo Hiring</td>\n",
       "      <td>1-2 Yrs</td>\n",
       "    </tr>\n",
       "    <tr>\n",
       "      <th>7</th>\n",
       "      <td>Assistant Manager/Manager - Data Analyst - Ana...</td>\n",
       "      <td>Bangalore/Bengaluru, Delhi / NCR</td>\n",
       "      <td>Huquo Consulting Pvt. Ltd</td>\n",
       "      <td>6-11 Yrs</td>\n",
       "    </tr>\n",
       "    <tr>\n",
       "      <th>8</th>\n",
       "      <td>Python Data Analyst - WFH</td>\n",
       "      <td>Remote</td>\n",
       "      <td>hCapital Business Consulting Private Limited</td>\n",
       "      <td>4-9 Yrs</td>\n",
       "    </tr>\n",
       "    <tr>\n",
       "      <th>9</th>\n",
       "      <td>Data Analyst - Decision Science</td>\n",
       "      <td>Bangalore/Bengaluru</td>\n",
       "      <td>Jana Small Finance Bank</td>\n",
       "      <td>3-8 Yrs</td>\n",
       "    </tr>\n",
       "  </tbody>\n",
       "</table>\n",
       "</div>"
      ],
      "text/plain": [
       "                                           Job Title  \\\n",
       "0  Contractual Hiring For Top MNC || Business Dat...   \n",
       "1                                Senior Data Analyst   \n",
       "2                        Data Analyst - CRM Platform   \n",
       "3                        HCL hiring For Data Analyst   \n",
       "4                              Customer Data Analyst   \n",
       "5                                   Sr. Data Analyst   \n",
       "6                             Data Analyst - FinTech   \n",
       "7  Assistant Manager/Manager - Data Analyst - Ana...   \n",
       "8                          Python Data Analyst - WFH   \n",
       "9                    Data Analyst - Decision Science   \n",
       "\n",
       "                                            Location  \\\n",
       "0                                Bangalore/Bengaluru   \n",
       "1                                Bangalore/Bengaluru   \n",
       "2  Bangalore/Bengaluru, Mumbai, Hyderabad/Secunde...   \n",
       "3                 Bangalore/Bengaluru, Pune, Chennai   \n",
       "4                                Bangalore/Bengaluru   \n",
       "5                          Bangalore/Bengaluru, Pune   \n",
       "6  Bangalore/Bengaluru, Mumbai, Hyderabad/Secunde...   \n",
       "7                   Bangalore/Bengaluru, Delhi / NCR   \n",
       "8                                             Remote   \n",
       "9                                Bangalore/Bengaluru   \n",
       "\n",
       "                                        Company Experience required  \n",
       "0                                     TeamLease             5-8 Yrs  \n",
       "1                                         Optum            5-10 Yrs  \n",
       "2                             Artech infosystem             1-6 Yrs  \n",
       "3                              HCL Technologies             3-8 Yrs  \n",
       "4                                        Oracle             1-3 Yrs  \n",
       "5       Global Indian School Education Services            6-11 Yrs  \n",
       "6                                  Primo Hiring             1-2 Yrs  \n",
       "7                     Huquo Consulting Pvt. Ltd            6-11 Yrs  \n",
       "8  hCapital Business Consulting Private Limited             4-9 Yrs  \n",
       "9                       Jana Small Finance Bank             3-8 Yrs  "
      ]
     },
     "execution_count": 97,
     "metadata": {},
     "output_type": "execute_result"
    }
   ],
   "source": [
    "df"
   ]
  },
  {
   "cell_type": "markdown",
   "id": "51b7b34e",
   "metadata": {},
   "source": [
    "# Q2: Write a python program to scrape data for “Data Scientist” Job position in “Bangalore” location. You have to scrape the job-title, job-location, company_name. You have to scrape first 10 jobs data. This task will be done in following steps:\n",
    "\n"
   ]
  },
  {
   "cell_type": "code",
   "execution_count": 98,
   "id": "1ed970b5",
   "metadata": {},
   "outputs": [],
   "source": [
    "import selenium\n",
    "import pandas as pd\n",
    "from selenium import webdriver\n",
    "import warnings\n",
    "warnings.filterwarnings('ignore')\n",
    "from selenium.common.exceptions import StaleElementReferenceException, NoSuchElementException\n",
    "from selenium.webdriver.common.by import By\n",
    "import time\n"
   ]
  },
  {
   "cell_type": "code",
   "execution_count": 99,
   "id": "3af81d23",
   "metadata": {},
   "outputs": [],
   "source": [
    "driver = webdriver.Chrome(r'C:\\chromedriver_win32\\chromedriver.exe')"
   ]
  },
  {
   "cell_type": "code",
   "execution_count": 100,
   "id": "8a91e179",
   "metadata": {},
   "outputs": [
    {
     "ename": "WebDriverException",
     "evalue": "Message: unknown error: cannot determine loading status\nfrom disconnected: received Inspector.detached event\n  (Session info: chrome=105.0.5195.102)\nStacktrace:\nBacktrace:\n\tOrdinal0 [0x0082DF13+2219795]\n\tOrdinal0 [0x007C2841+1779777]\n\tOrdinal0 [0x006D423D+803389]\n\tOrdinal0 [0x006C7DF8+753144]\n\tOrdinal0 [0x006C7AF6+752374]\n\tOrdinal0 [0x006C706A+749674]\n\tOrdinal0 [0x006C5F94+745364]\n\tOrdinal0 [0x006C6528+746792]\n\tOrdinal0 [0x006D06F5+788213]\n\tOrdinal0 [0x006C78FD+751869]\n\tOrdinal0 [0x006C853F+755007]\n\tOrdinal0 [0x006C7B11+752401]\n\tOrdinal0 [0x006C706A+749674]\n\tOrdinal0 [0x006C5F94+745364]\n\tOrdinal0 [0x006C63FD+746493]\n\tOrdinal0 [0x006D5A8E+809614]\n\tOrdinal0 [0x0072F87D+1177725]\n\tOrdinal0 [0x0071E7FC+1107964]\n\tOrdinal0 [0x0072F192+1175954]\n\tOrdinal0 [0x0071E616+1107478]\n\tOrdinal0 [0x006F7F89+950153]\n\tOrdinal0 [0x006F8F56+954198]\n\tGetHandleVerifier [0x00B22CB2+3040210]\n\tGetHandleVerifier [0x00B12BB4+2974420]\n\tGetHandleVerifier [0x008C6A0A+565546]\n\tGetHandleVerifier [0x008C5680+560544]\n\tOrdinal0 [0x007C9A5C+1808988]\n\tOrdinal0 [0x007CE3A8+1827752]\n\tOrdinal0 [0x007CE495+1827989]\n\tOrdinal0 [0x007D80A4+1867940]\n\tBaseThreadInitThunk [0x7725FA29+25]\n\tRtlGetAppContainerNamedObjectPath [0x77C97A9E+286]\n\tRtlGetAppContainerNamedObjectPath [0x77C97A6E+238]\n",
     "output_type": "error",
     "traceback": [
      "\u001b[1;31m---------------------------------------------------------------------------\u001b[0m",
      "\u001b[1;31mWebDriverException\u001b[0m                        Traceback (most recent call last)",
      "\u001b[1;32mC:\\Users\\NAYANP~1\\AppData\\Local\\Temp/ipykernel_11256/2610062848.py\u001b[0m in \u001b[0;36m<module>\u001b[1;34m\u001b[0m\n\u001b[0;32m      1\u001b[0m \u001b[1;31m#opening Naukri page on automated chrome browser\u001b[0m\u001b[1;33m\u001b[0m\u001b[1;33m\u001b[0m\u001b[0m\n\u001b[1;32m----> 2\u001b[1;33m \u001b[0mdriver\u001b[0m\u001b[1;33m.\u001b[0m\u001b[0mget\u001b[0m\u001b[1;33m(\u001b[0m\u001b[1;34m'https://www.naukri.com/'\u001b[0m\u001b[1;33m)\u001b[0m\u001b[1;33m\u001b[0m\u001b[1;33m\u001b[0m\u001b[0m\n\u001b[0m",
      "\u001b[1;32m~\\anaconda3\\lib\\site-packages\\selenium\\webdriver\\remote\\webdriver.py\u001b[0m in \u001b[0;36mget\u001b[1;34m(self, url)\u001b[0m\n\u001b[0;32m    438\u001b[0m         \u001b[0mLoads\u001b[0m \u001b[0ma\u001b[0m \u001b[0mweb\u001b[0m \u001b[0mpage\u001b[0m \u001b[1;32min\u001b[0m \u001b[0mthe\u001b[0m \u001b[0mcurrent\u001b[0m \u001b[0mbrowser\u001b[0m \u001b[0msession\u001b[0m\u001b[1;33m.\u001b[0m\u001b[1;33m\u001b[0m\u001b[1;33m\u001b[0m\u001b[0m\n\u001b[0;32m    439\u001b[0m         \"\"\"\n\u001b[1;32m--> 440\u001b[1;33m         \u001b[0mself\u001b[0m\u001b[1;33m.\u001b[0m\u001b[0mexecute\u001b[0m\u001b[1;33m(\u001b[0m\u001b[0mCommand\u001b[0m\u001b[1;33m.\u001b[0m\u001b[0mGET\u001b[0m\u001b[1;33m,\u001b[0m \u001b[1;33m{\u001b[0m\u001b[1;34m'url'\u001b[0m\u001b[1;33m:\u001b[0m \u001b[0murl\u001b[0m\u001b[1;33m}\u001b[0m\u001b[1;33m)\u001b[0m\u001b[1;33m\u001b[0m\u001b[1;33m\u001b[0m\u001b[0m\n\u001b[0m\u001b[0;32m    441\u001b[0m \u001b[1;33m\u001b[0m\u001b[0m\n\u001b[0;32m    442\u001b[0m     \u001b[1;33m@\u001b[0m\u001b[0mproperty\u001b[0m\u001b[1;33m\u001b[0m\u001b[1;33m\u001b[0m\u001b[0m\n",
      "\u001b[1;32m~\\anaconda3\\lib\\site-packages\\selenium\\webdriver\\remote\\webdriver.py\u001b[0m in \u001b[0;36mexecute\u001b[1;34m(self, driver_command, params)\u001b[0m\n\u001b[0;32m    426\u001b[0m         \u001b[0mresponse\u001b[0m \u001b[1;33m=\u001b[0m \u001b[0mself\u001b[0m\u001b[1;33m.\u001b[0m\u001b[0mcommand_executor\u001b[0m\u001b[1;33m.\u001b[0m\u001b[0mexecute\u001b[0m\u001b[1;33m(\u001b[0m\u001b[0mdriver_command\u001b[0m\u001b[1;33m,\u001b[0m \u001b[0mparams\u001b[0m\u001b[1;33m)\u001b[0m\u001b[1;33m\u001b[0m\u001b[1;33m\u001b[0m\u001b[0m\n\u001b[0;32m    427\u001b[0m         \u001b[1;32mif\u001b[0m \u001b[0mresponse\u001b[0m\u001b[1;33m:\u001b[0m\u001b[1;33m\u001b[0m\u001b[1;33m\u001b[0m\u001b[0m\n\u001b[1;32m--> 428\u001b[1;33m             \u001b[0mself\u001b[0m\u001b[1;33m.\u001b[0m\u001b[0merror_handler\u001b[0m\u001b[1;33m.\u001b[0m\u001b[0mcheck_response\u001b[0m\u001b[1;33m(\u001b[0m\u001b[0mresponse\u001b[0m\u001b[1;33m)\u001b[0m\u001b[1;33m\u001b[0m\u001b[1;33m\u001b[0m\u001b[0m\n\u001b[0m\u001b[0;32m    429\u001b[0m             response['value'] = self._unwrap_value(\n\u001b[0;32m    430\u001b[0m                 response.get('value', None))\n",
      "\u001b[1;32m~\\anaconda3\\lib\\site-packages\\selenium\\webdriver\\remote\\errorhandler.py\u001b[0m in \u001b[0;36mcheck_response\u001b[1;34m(self, response)\u001b[0m\n\u001b[0;32m    241\u001b[0m                 \u001b[0malert_text\u001b[0m \u001b[1;33m=\u001b[0m \u001b[0mvalue\u001b[0m\u001b[1;33m[\u001b[0m\u001b[1;34m'alert'\u001b[0m\u001b[1;33m]\u001b[0m\u001b[1;33m.\u001b[0m\u001b[0mget\u001b[0m\u001b[1;33m(\u001b[0m\u001b[1;34m'text'\u001b[0m\u001b[1;33m)\u001b[0m\u001b[1;33m\u001b[0m\u001b[1;33m\u001b[0m\u001b[0m\n\u001b[0;32m    242\u001b[0m             \u001b[1;32mraise\u001b[0m \u001b[0mexception_class\u001b[0m\u001b[1;33m(\u001b[0m\u001b[0mmessage\u001b[0m\u001b[1;33m,\u001b[0m \u001b[0mscreen\u001b[0m\u001b[1;33m,\u001b[0m \u001b[0mstacktrace\u001b[0m\u001b[1;33m,\u001b[0m \u001b[0malert_text\u001b[0m\u001b[1;33m)\u001b[0m  \u001b[1;31m# type: ignore[call-arg]  # mypy is not smart enough here\u001b[0m\u001b[1;33m\u001b[0m\u001b[1;33m\u001b[0m\u001b[0m\n\u001b[1;32m--> 243\u001b[1;33m         \u001b[1;32mraise\u001b[0m \u001b[0mexception_class\u001b[0m\u001b[1;33m(\u001b[0m\u001b[0mmessage\u001b[0m\u001b[1;33m,\u001b[0m \u001b[0mscreen\u001b[0m\u001b[1;33m,\u001b[0m \u001b[0mstacktrace\u001b[0m\u001b[1;33m)\u001b[0m\u001b[1;33m\u001b[0m\u001b[1;33m\u001b[0m\u001b[0m\n\u001b[0m",
      "\u001b[1;31mWebDriverException\u001b[0m: Message: unknown error: cannot determine loading status\nfrom disconnected: received Inspector.detached event\n  (Session info: chrome=105.0.5195.102)\nStacktrace:\nBacktrace:\n\tOrdinal0 [0x0082DF13+2219795]\n\tOrdinal0 [0x007C2841+1779777]\n\tOrdinal0 [0x006D423D+803389]\n\tOrdinal0 [0x006C7DF8+753144]\n\tOrdinal0 [0x006C7AF6+752374]\n\tOrdinal0 [0x006C706A+749674]\n\tOrdinal0 [0x006C5F94+745364]\n\tOrdinal0 [0x006C6528+746792]\n\tOrdinal0 [0x006D06F5+788213]\n\tOrdinal0 [0x006C78FD+751869]\n\tOrdinal0 [0x006C853F+755007]\n\tOrdinal0 [0x006C7B11+752401]\n\tOrdinal0 [0x006C706A+749674]\n\tOrdinal0 [0x006C5F94+745364]\n\tOrdinal0 [0x006C63FD+746493]\n\tOrdinal0 [0x006D5A8E+809614]\n\tOrdinal0 [0x0072F87D+1177725]\n\tOrdinal0 [0x0071E7FC+1107964]\n\tOrdinal0 [0x0072F192+1175954]\n\tOrdinal0 [0x0071E616+1107478]\n\tOrdinal0 [0x006F7F89+950153]\n\tOrdinal0 [0x006F8F56+954198]\n\tGetHandleVerifier [0x00B22CB2+3040210]\n\tGetHandleVerifier [0x00B12BB4+2974420]\n\tGetHandleVerifier [0x008C6A0A+565546]\n\tGetHandleVerifier [0x008C5680+560544]\n\tOrdinal0 [0x007C9A5C+1808988]\n\tOrdinal0 [0x007CE3A8+1827752]\n\tOrdinal0 [0x007CE495+1827989]\n\tOrdinal0 [0x007D80A4+1867940]\n\tBaseThreadInitThunk [0x7725FA29+25]\n\tRtlGetAppContainerNamedObjectPath [0x77C97A9E+286]\n\tRtlGetAppContainerNamedObjectPath [0x77C97A6E+238]\n"
     ]
    }
   ],
   "source": [
    "#opening Naukri page on automated chrome browser\n",
    "driver.get('https://www.naukri.com/')"
   ]
  },
  {
   "cell_type": "code",
   "execution_count": null,
   "id": "2fb16851",
   "metadata": {},
   "outputs": [],
   "source": [
    "#entering designation and location as required\n",
    "\n",
    "designation = driver.find_element(By.CLASS_NAME, \"suggestor-input\")\n",
    "designation.send_keys('Data Scientist')"
   ]
  },
  {
   "cell_type": "code",
   "execution_count": null,
   "id": "946d1aee",
   "metadata": {},
   "outputs": [],
   "source": [
    "location = driver.find_element(By.XPATH, '/html/body/div[1]/div[6]/div/div/div[5]/div/div/div/input')\n",
    "location.send_keys('Bangalore')"
   ]
  },
  {
   "cell_type": "code",
   "execution_count": null,
   "id": "a9d73f58",
   "metadata": {},
   "outputs": [],
   "source": [
    "search = driver.find_element(By.CLASS_NAME, \"qsbSubmit\")\n",
    "search.click()"
   ]
  },
  {
   "cell_type": "code",
   "execution_count": null,
   "id": "3ec58b38",
   "metadata": {},
   "outputs": [],
   "source": [
    "job_title = []\n",
    "job_location = []\n",
    "company_name = []"
   ]
  },
  {
   "cell_type": "code",
   "execution_count": null,
   "id": "961f78c6",
   "metadata": {},
   "outputs": [],
   "source": [
    "#Scraping job title fro the given page\n",
    "title_tags = driver.find_elements(By.XPATH, '//a[@class=\"title fw500 ellipsis\"]')\n",
    "for i in title_tags[0:10]:\n",
    "    title=i.text\n",
    "    job_title.append(title)\n",
    "\n",
    "#scraping location from the data\n",
    "location_tags = driver.find_elements(By.XPATH, '//li[@class=\"fleft grey-text br2 placeHolderLi location\"]')\n",
    "for i in location_tags[0:10]:\n",
    "    location=i.text\n",
    "    job_location.append(location)\n",
    "    \n",
    "#scraping comapny name\n",
    "company_tags = driver.find_elements(By.XPATH, '//a[@class=\"subTitle ellipsis fleft\"]')\n",
    "for i in company_tags[0:10]:\n",
    "    company=i.text\n",
    "    company_name.append(company)\n",
    "    "
   ]
  },
  {
   "cell_type": "code",
   "execution_count": null,
   "id": "14b81b22",
   "metadata": {},
   "outputs": [],
   "source": [
    "print(len(job_title), len(job_location), len(company_name))"
   ]
  },
  {
   "cell_type": "code",
   "execution_count": null,
   "id": "04c1899e",
   "metadata": {},
   "outputs": [],
   "source": [
    "df=pd.DataFrame(list(zip(job_title, job_location, company_name)))"
   ]
  },
  {
   "cell_type": "code",
   "execution_count": null,
   "id": "320281be",
   "metadata": {},
   "outputs": [],
   "source": [
    "df.columns = ['Job Title','Location','Company']"
   ]
  },
  {
   "cell_type": "code",
   "execution_count": null,
   "id": "adbd4300",
   "metadata": {},
   "outputs": [],
   "source": [
    "df"
   ]
  },
  {
   "cell_type": "markdown",
   "id": "1b91d6a8",
   "metadata": {},
   "source": [
    "# Q3: In this question you have to scrape data using the filters available on the webpage as shown below:"
   ]
  },
  {
   "cell_type": "code",
   "execution_count": null,
   "id": "4e88b619",
   "metadata": {},
   "outputs": [],
   "source": [
    "import selenium\n",
    "import pandas as pd\n",
    "from selenium import webdriver\n",
    "import warnings\n",
    "warnings.filterwarnings('ignore')\n",
    "from selenium.common.exceptions import StaleElementReferenceException, NoSuchElementException\n",
    "from selenium.webdriver.common.by import By\n",
    "import time\n"
   ]
  },
  {
   "cell_type": "code",
   "execution_count": null,
   "id": "29df62d4",
   "metadata": {},
   "outputs": [],
   "source": [
    "driver = webdriver.Chrome(r'C:\\chromedriver_win32\\chromedriver.exe')"
   ]
  },
  {
   "cell_type": "code",
   "execution_count": null,
   "id": "5dbcbf4f",
   "metadata": {},
   "outputs": [],
   "source": [
    "#opening Naukri page on automated chrome browser\n",
    "driver.get('https://www.naukri.com/')"
   ]
  },
  {
   "cell_type": "code",
   "execution_count": null,
   "id": "b991399a",
   "metadata": {},
   "outputs": [],
   "source": [
    "#entering designation and location as required\n",
    "\n",
    "designation = driver.find_element(By.CLASS_NAME, \"suggestor-input\")\n",
    "designation.send_keys('Data Scientist')"
   ]
  },
  {
   "cell_type": "code",
   "execution_count": null,
   "id": "8e89c5a2",
   "metadata": {},
   "outputs": [],
   "source": [
    "search = driver.find_element(By.CLASS_NAME, \"qsbSubmit\")\n",
    "search.click()"
   ]
  },
  {
   "cell_type": "code",
   "execution_count": null,
   "id": "ab85077a",
   "metadata": {},
   "outputs": [],
   "source": [
    "location = driver.find_element(By.XPATH, '//span[@title=\"Delhi / NCR\"]')\n",
    "location.click()"
   ]
  },
  {
   "cell_type": "code",
   "execution_count": null,
   "id": "d7832ba9",
   "metadata": {},
   "outputs": [],
   "source": [
    "salary = driver.find_element(By.XPATH, '//span[@title=\"3-6 Lakhs\"]')\n",
    "salary.click()"
   ]
  },
  {
   "cell_type": "code",
   "execution_count": null,
   "id": "d07da979",
   "metadata": {},
   "outputs": [],
   "source": [
    "job_title = []\n",
    "job_location = []\n",
    "company_name = []"
   ]
  },
  {
   "cell_type": "code",
   "execution_count": null,
   "id": "1a50f12f",
   "metadata": {},
   "outputs": [],
   "source": [
    "#Scraping job title fro the given page\n",
    "title_tags = driver.find_elements(By.XPATH, '//a[@class=\"title fw500 ellipsis\"]')\n",
    "for i in title_tags[0:10]:\n",
    "    title=i.text\n",
    "    job_title.append(title)\n",
    "\n",
    "#scraping location from the data\n",
    "location_tags = driver.find_elements(By.XPATH, '//li[@class=\"fleft grey-text br2 placeHolderLi location\"]')\n",
    "for i in location_tags[0:10]:\n",
    "    location=i.text\n",
    "    job_location.append(location)\n",
    "    \n",
    "#scraping comapny name\n",
    "company_tags = driver.find_elements(By.XPATH, '//a[@class=\"subTitle ellipsis fleft\"]')\n",
    "for i in company_tags[0:10]:\n",
    "    company=i.text\n",
    "    company_name.append(company)\n",
    "    "
   ]
  },
  {
   "cell_type": "code",
   "execution_count": null,
   "id": "068927da",
   "metadata": {},
   "outputs": [],
   "source": [
    "print(len(job_title), len(job_location), len(company_name))"
   ]
  },
  {
   "cell_type": "code",
   "execution_count": null,
   "id": "69f7c3b3",
   "metadata": {},
   "outputs": [],
   "source": [
    "df=pd.DataFrame(list(zip(job_title, job_location, company_name)))"
   ]
  },
  {
   "cell_type": "code",
   "execution_count": null,
   "id": "fb257023",
   "metadata": {},
   "outputs": [],
   "source": [
    "df.columns = ['Job Title','Location','Company']\n",
    "df"
   ]
  },
  {
   "cell_type": "markdown",
   "id": "d126ea18",
   "metadata": {},
   "source": [
    "# Q4: Scrape data of first 100 sunglasses listings on flipkart.com. You have to scrape four attributes:1. Brand 2. Product Description 3. Price\n",
    "\n",
    "\n"
   ]
  },
  {
   "cell_type": "code",
   "execution_count": null,
   "id": "d22fd353",
   "metadata": {},
   "outputs": [],
   "source": [
    "driver = webdriver.Chrome(r'C:\\chromedriver_win32\\chromedriver.exe')"
   ]
  },
  {
   "cell_type": "code",
   "execution_count": null,
   "id": "9f1e1c96",
   "metadata": {},
   "outputs": [],
   "source": [
    "driver.get('https://www.flipkart.com/')"
   ]
  },
  {
   "cell_type": "code",
   "execution_count": null,
   "id": "c72eea83",
   "metadata": {},
   "outputs": [],
   "source": [
    "brand = []\n",
    "product_description = []\n",
    "price = []"
   ]
  },
  {
   "cell_type": "code",
   "execution_count": null,
   "id": "5336f6e6",
   "metadata": {},
   "outputs": [],
   "source": [
    "start = 0\n",
    "end = 3\n",
    "\n",
    "for page in range(start,end):\n",
    "    brand_tags = driver.find_elements(By.XPATH, '//div[@class=\"_2WkVRV\"]')\n",
    "    for i in brand_tags:\n",
    "        brands=i.text\n",
    "        brand.append(brands)\n",
    "        \n",
    "for page in range(start,end):\n",
    "    product_tags = driver.find_elements(By.XPATH, '//a[@class=\"IRpwTa\"]')\n",
    "    for i in product_tags:\n",
    "        products=i.text\n",
    "        product_description.append(products)\n",
    "        \n",
    "for page in range(start,end):\n",
    "    price_tags = driver.find_elements(By.XPATH, '//div[@class=\"_30jeq3\"]')\n",
    "    for i in price_tags:\n",
    "        prices=i.text\n",
    "        price.append(prices)\n",
    "    next_button = driver.find_element(By.XPATH,'//a[@class=\"_1LKTO3\"]')\n",
    "    next_button.click()\n",
    "    time.sleep(3)\n",
    "    \n",
    "    "
   ]
  },
  {
   "cell_type": "code",
   "execution_count": null,
   "id": "4efeb5bc",
   "metadata": {},
   "outputs": [],
   "source": [
    "print(len(brand), len(product_description), len(price))"
   ]
  },
  {
   "cell_type": "markdown",
   "id": "31238fb6",
   "metadata": {},
   "source": [
    "We got more than 100 entries as on one page we have 40 entries"
   ]
  },
  {
   "cell_type": "markdown",
   "id": "a47c12d8",
   "metadata": {},
   "source": [
    "# Q5: Scrape 100 reviews data from flipkart.com for iphone11 phone.\n"
   ]
  },
  {
   "cell_type": "code",
   "execution_count": null,
   "id": "2e957699",
   "metadata": {},
   "outputs": [],
   "source": [
    "driver = webdriver.Chrome(r'C:\\chromedriver_win32\\chromedriver.exe')"
   ]
  },
  {
   "cell_type": "code",
   "execution_count": null,
   "id": "774d5a56",
   "metadata": {},
   "outputs": [],
   "source": [
    "driver.get('https://www.flipkart.com/')"
   ]
  },
  {
   "cell_type": "code",
   "execution_count": null,
   "id": "382de5fd",
   "metadata": {},
   "outputs": [],
   "source": [
    "rating = []\n",
    "review_summary=[]\n",
    "full_review = []"
   ]
  },
  {
   "cell_type": "code",
   "execution_count": null,
   "id": "81d1429b",
   "metadata": {},
   "outputs": [],
   "source": [
    "search_box_flipkart = driver.find_element(By.CLASS_NAME,'_3704LK')\n",
    "search_box_flipkart.send_keys(\"iphone 11\")"
   ]
  },
  {
   "cell_type": "code",
   "execution_count": null,
   "id": "c94069bc",
   "metadata": {},
   "outputs": [],
   "source": [
    "button_click = driver.find_element(By.CLASS_NAME,'L0Z3Pu')\n",
    "button_click.click()"
   ]
  },
  {
   "cell_type": "code",
   "execution_count": null,
   "id": "d361f769",
   "metadata": {},
   "outputs": [],
   "source": [
    "iphone_11 = driver.find_element(By.CLASS_NAME,'_1fQZEK')\n",
    "link_iphone_11 = iphone_11.get_attribute('href')\n",
    "driver.get(link_iphone_11)\n",
    "#iphone_11.click()\n"
   ]
  },
  {
   "cell_type": "code",
   "execution_count": null,
   "id": "bff5df49",
   "metadata": {},
   "outputs": [],
   "source": [
    "All_review = driver.find_element(By.XPATH,'/html/body/div[1]/div/div[3]/div[1]/div[2]/div[9]/div[6]/div/a')\n",
    "All_review_link = All_review.get_attribute('href')\n",
    "driver.get(All_review_link)\n"
   ]
  },
  {
   "cell_type": "code",
   "execution_count": null,
   "id": "97bce486",
   "metadata": {},
   "outputs": [],
   "source": [
    "start = 0\n",
    "end = 10\n",
    "\n",
    "for page in range(start,end):\n",
    "    rating_tags = driver.find_elements(By.XPATH, '//div[@class=\"_3LWZlK _1BLPMq\"]')\n",
    "    for i in rating_tags:\n",
    "        rate=i.text\n",
    "        rating.append(rate)\n",
    "        \n",
    "for page in range(start,end):\n",
    "    review_tags = driver.find_elements(By.XPATH, '//p[@class=\"_2-N8zT\"]')\n",
    "    for i in review_tags:\n",
    "        review=i.text\n",
    "        review_summary.append(review)\n",
    "        \n",
    "for page in range(start,end):\n",
    "    fullreview_tags = driver.find_elements(By.XPATH, '//div[@class=\"t-ZTKy\"]')\n",
    "    for i in fullreview_tags:\n",
    "        fr=i.text\n",
    "        full_review.append(fr)\n",
    "    \n",
    "    next_button = driver.find_element(By.CLASS_NAME,'_1LKTO3')\n",
    "    next_button.click()\n",
    "    time.sleep(3)\n",
    "    \n",
    "    "
   ]
  },
  {
   "cell_type": "code",
   "execution_count": null,
   "id": "6018469b",
   "metadata": {},
   "outputs": [],
   "source": [
    "print(len(rating), len(review_summary), len(full_review))"
   ]
  },
  {
   "cell_type": "code",
   "execution_count": null,
   "id": "d6aab34d",
   "metadata": {},
   "outputs": [],
   "source": [
    "df_iphone=pd.DataFrame(list(zip(rating, review_summary, full_review)))\n",
    "df_iphone.columns = ['Rating','Review_summary','Full_review']\n",
    "df_iphone"
   ]
  },
  {
   "cell_type": "markdown",
   "id": "2e9ef9fe",
   "metadata": {},
   "source": [
    "# Q6 : Scrape data for first 100 sneakers you find when you visit flipkart.com and search for “sneakers” in the search field."
   ]
  },
  {
   "cell_type": "code",
   "execution_count": null,
   "id": "923a0e61",
   "metadata": {},
   "outputs": [],
   "source": [
    "driver = webdriver.Chrome(r'C:\\chromedriver_win32\\chromedriver.exe')"
   ]
  },
  {
   "cell_type": "code",
   "execution_count": null,
   "id": "97cd3406",
   "metadata": {},
   "outputs": [],
   "source": [
    "driver.get('https://www.flipkart.com/')"
   ]
  },
  {
   "cell_type": "code",
   "execution_count": null,
   "id": "6a2758dd",
   "metadata": {},
   "outputs": [],
   "source": [
    "Brand = []\n",
    "ProductDescription=[]\n",
    "Price = []"
   ]
  },
  {
   "cell_type": "code",
   "execution_count": null,
   "id": "b47d1178",
   "metadata": {},
   "outputs": [],
   "source": [
    "search_box_flipkart = driver.find_element(By.CLASS_NAME,'_3704LK')\n",
    "search_box_flipkart.send_keys(\"sneakers\")"
   ]
  },
  {
   "cell_type": "code",
   "execution_count": null,
   "id": "200601bb",
   "metadata": {},
   "outputs": [],
   "source": [
    "button_click = driver.find_element(By.CLASS_NAME,'L0Z3Pu')\n",
    "button_click.click()"
   ]
  },
  {
   "cell_type": "code",
   "execution_count": null,
   "id": "e0647410",
   "metadata": {},
   "outputs": [],
   "source": [
    "start = 0\n",
    "end = 3\n",
    "\n",
    "for page in range(start,end):\n",
    "    brand_tags = driver.find_elements(By.XPATH, '//div[@class=\"_2WkVRV\"]')\n",
    "    for i in brand_tags:\n",
    "        brand_name=i.text\n",
    "        Brand.append(brand_name)\n",
    "        \n",
    "for page in range(start,end):\n",
    "    product_description_tags = driver.find_elements(By.XPATH, '//a[@class=\"IRpwTa\"]')\n",
    "    for i in product_description_tags:\n",
    "        product_description=i.text\n",
    "        ProductDescription.append(product_description)\n",
    "        \n",
    "for page in range(start,end):\n",
    "    price_tags = driver.find_elements(By.XPATH, '//div[@class=\"_30jeq3\"]')\n",
    "    for i in price_tags:\n",
    "        price=i.text\n",
    "        Price.append(price)\n",
    "    \n",
    "    next_button = driver.find_element(By.CLASS_NAME,'_1LKTO3')\n",
    "    next_button.click()\n",
    "    time.sleep(3)\n",
    "    "
   ]
  },
  {
   "cell_type": "code",
   "execution_count": null,
   "id": "3bb3974e",
   "metadata": {},
   "outputs": [],
   "source": [
    "df_sneakers=pd.DataFrame(list(zip(Brand, ProductDescription, Price)))\n",
    "df_sneakers.columns = ['Brand', 'Product Description', 'Price']\n",
    "df_sneakers = df_sneakers.drop(df_sneakers.index[100:])\n",
    "df_sneakers"
   ]
  },
  {
   "cell_type": "markdown",
   "id": "01124814",
   "metadata": {},
   "source": [
    "# Q7 : Go to the link - https://www.myntra.com/shoes , Set second Price filter and Color filter to “Black”, as shown in the below image."
   ]
  },
  {
   "cell_type": "code",
   "execution_count": null,
   "id": "a49d3aad",
   "metadata": {},
   "outputs": [],
   "source": [
    "driver = webdriver.Chrome(r'C:\\chromedriver_win32\\chromedriver.exe')"
   ]
  },
  {
   "cell_type": "code",
   "execution_count": null,
   "id": "3b5452f3",
   "metadata": {},
   "outputs": [],
   "source": [
    "driver.get('https://www.myntra.com/shoes')"
   ]
  },
  {
   "cell_type": "code",
   "execution_count": null,
   "id": "02bc5f0b",
   "metadata": {},
   "outputs": [],
   "source": [
    "Shoes_Brand = []\n",
    "Short_Shoe_Description=[]\n",
    "Shoes_Price = []"
   ]
  },
  {
   "cell_type": "code",
   "execution_count": null,
   "id": "deec2e8b",
   "metadata": {},
   "outputs": [],
   "source": [
    "Filter_flipkart = driver.find_element(By.XPATH,'/html/body/div[2]/div/div[1]/main/div[3]/div[1]/section/div/div[5]/ul/li[2]/label')\n",
    "Filter_flipkart.click()"
   ]
  },
  {
   "cell_type": "code",
   "execution_count": null,
   "id": "1aa6b746",
   "metadata": {},
   "outputs": [],
   "source": [
    "ColourFilter_flipkart = driver.find_element(By.XPATH,'/html/body/div[2]/div/div[1]/main/div[3]/div[1]/section/div/div[6]/ul/li[1]/label')\n",
    "ColourFilter_flipkart.click()"
   ]
  },
  {
   "cell_type": "code",
   "execution_count": null,
   "id": "6285a7f5",
   "metadata": {},
   "outputs": [],
   "source": [
    "start = 0\n",
    "end = 2\n",
    "\n",
    "for page in range(start,end):\n",
    "    brand_tags = driver.find_elements(By.XPATH, '//h3[@class=\"product-brand\"]')\n",
    "    for i in brand_tags:\n",
    "        brand_name=i.text\n",
    "        Shoes_Brand.append(brand_name)\n",
    "        \n",
    "for page in range(start,end):\n",
    "    product_description_tags = driver.find_elements(By.XPATH, '//h4[@class=\"product-product\"]')\n",
    "    for i in product_description_tags:\n",
    "        product_description=i.text\n",
    "        Short_Shoe_Description.append(product_description)\n",
    "        \n",
    "for page in range(start,end):\n",
    "    price_tags = driver.find_elements(By.XPATH, '//div[@class=\"product-price\"]')\n",
    "    for i in price_tags:\n",
    "        price=i.text\n",
    "        Shoes_Price.append(price)\n",
    "    \n",
    "    next_button = driver.find_element(By.CLASS_NAME,'pagination-next')\n",
    "    next_button.click()\n",
    "    time.sleep(3)"
   ]
  },
  {
   "cell_type": "code",
   "execution_count": null,
   "id": "264da84e",
   "metadata": {},
   "outputs": [],
   "source": [
    "print(len(Shoes_Brand), len(Short_Shoe_Description), len(Shoes_Price))"
   ]
  },
  {
   "cell_type": "code",
   "execution_count": null,
   "id": "c1185212",
   "metadata": {},
   "outputs": [],
   "source": [
    "df_Shoes=pd.DataFrame(list(zip(Shoes_Brand, Short_Shoe_Description, Shoes_Price)))\n",
    "df_Shoes.columns = ['Shoes_Brand', 'Short_Shoe_Description', 'Shoes_Price']\n",
    "df_Shoes"
   ]
  },
  {
   "cell_type": "markdown",
   "id": "213c44fc",
   "metadata": {},
   "source": [
    "# Q8 Go to webpage https://www.amazon.in/,Enter “Laptop” in the search field and then click the search icon.Then set CPU Type filter to “Intel Core i7”, and scrape 10 laptop data"
   ]
  },
  {
   "cell_type": "code",
   "execution_count": null,
   "id": "3720f424",
   "metadata": {},
   "outputs": [],
   "source": [
    "import selenium\n",
    "import pandas as pd\n",
    "from selenium import webdriver\n",
    "import warnings\n",
    "warnings.filterwarnings('ignore')\n",
    "from selenium.common.exceptions import StaleElementReferenceException, NoSuchElementException\n",
    "from selenium.webdriver.common.by import By\n",
    "import time\n",
    "import numpy as np\n",
    "\n"
   ]
  },
  {
   "cell_type": "code",
   "execution_count": null,
   "id": "8c117b4b",
   "metadata": {},
   "outputs": [],
   "source": [
    "driver = webdriver.Chrome(r'C:\\chromedriver_win32\\chromedriver.exe')"
   ]
  },
  {
   "cell_type": "code",
   "execution_count": null,
   "id": "9a549649",
   "metadata": {},
   "outputs": [],
   "source": [
    "driver.get('https://www.amazon.in')"
   ]
  },
  {
   "cell_type": "code",
   "execution_count": null,
   "id": "715234bd",
   "metadata": {},
   "outputs": [],
   "source": [
    "Laptop_title = []\n",
    "Laptop_Ratings =[]\n",
    "Laptop_Price = []"
   ]
  },
  {
   "cell_type": "code",
   "execution_count": null,
   "id": "0ab346ba",
   "metadata": {},
   "outputs": [],
   "source": [
    "search_box_amazon = driver.find_element(By.XPATH,'/html/body/div[1]/header/div/div[1]/div[2]/div/form/div[2]/div[1]/input')\n",
    "search_box_amazon.send_keys(\"Laptop\")"
   ]
  },
  {
   "cell_type": "code",
   "execution_count": null,
   "id": "ef34751c",
   "metadata": {},
   "outputs": [],
   "source": [
    "button_click = driver.find_element(By.XPATH,'/html/body/div[1]/header/div/div[1]/div[2]/div/form/div[3]')\n",
    "button_click.click()"
   ]
  },
  {
   "cell_type": "code",
   "execution_count": null,
   "id": "e3645c68",
   "metadata": {},
   "outputs": [],
   "source": [
    "Filter_laptop = driver.find_element(By.XPATH,'/html/body/div[1]/div[2]/div[1]/div[2]/div/div[3]/span/div[1]/div/div/div[6]/ul[4]/li[10]/span/a/span')\n",
    "Filter_laptop.click()"
   ]
  },
  {
   "cell_type": "code",
   "execution_count": null,
   "id": "6dd4029e",
   "metadata": {},
   "outputs": [],
   "source": [
    "Laptop_Title_tags = driver.find_elements(By.XPATH, '//div[@class=\"a-section a-spacing-none puis-padding-right-small s-title-instructions-style\"]')\n",
    "for i in Laptop_Title_tags:\n",
    "    Title=i.text\n",
    "    Laptop_title.append(Title)\n",
    "        \n",
    "\n",
    "Laptop_Rating_tags = driver.find_elements(By.XPATH, '//div[@class=\"a-row a-size-small\"]')\n",
    "for i in Laptop_Rating_tags:\n",
    "    ratings=i.text\n",
    "    Laptop_Ratings.append(ratings)\n",
    "        \n",
    "\n",
    "Price_tags = driver.find_elements(By.XPATH, '//span[@class=\"a-price-whole\"]')\n",
    "for i in price_tags:\n",
    "    price=i.text\n",
    "    Laptop_Price.append(price)"
   ]
  },
  {
   "cell_type": "code",
   "execution_count": null,
   "id": "2e96585e",
   "metadata": {},
   "outputs": [],
   "source": [
    "print(len(Laptop_title), len(Laptop_Ratings), len(Laptop_Price))"
   ]
  },
  {
   "cell_type": "code",
   "execution_count": null,
   "id": "4cadb1ca",
   "metadata": {},
   "outputs": [],
   "source": [
    "df_Laptop=pd.DataFrame(list(zip(Laptop_title, Laptop_Ratings, Laptop_Price)))\n",
    "df_Laptop.columns = ['Laptop_title', 'Laptop_Ratings', 'Laptop_Price']\n",
    "df_Laptop = df_Laptop.drop(df_Laptop.index[10:])\n",
    "df_Laptop"
   ]
  },
  {
   "cell_type": "markdown",
   "id": "c137c8a7",
   "metadata": {},
   "source": [
    "it is showing error chrome not reachable"
   ]
  },
  {
   "cell_type": "markdown",
   "id": "c7b5674b",
   "metadata": {},
   "source": [
    "# Q9: Write a python program to scrape data for first 10 job results for Data Scientist Designation in Noida location. You have to scrape company name, No. of days ago when job was posted, Rating of the company. This task will be done in following steps:\n",
    "\n"
   ]
  },
  {
   "cell_type": "code",
   "execution_count": null,
   "id": "b556dc5a",
   "metadata": {},
   "outputs": [],
   "source": [
    "import selenium\n",
    "import pandas as pd\n",
    "from selenium import webdriver\n",
    "import warnings\n",
    "warnings.filterwarnings('ignore')\n",
    "from selenium.common.exceptions import StaleElementReferenceException, NoSuchElementException\n",
    "from selenium.webdriver.common.by import By\n",
    "import time\n",
    "import numpy as np\n",
    "\n"
   ]
  },
  {
   "cell_type": "code",
   "execution_count": null,
   "id": "1f27cee2",
   "metadata": {},
   "outputs": [],
   "source": [
    "driver = webdriver.Chrome(r'C:\\chromedriver_win32\\chromedriver.exe')"
   ]
  },
  {
   "cell_type": "code",
   "execution_count": null,
   "id": "65ce2674",
   "metadata": {},
   "outputs": [],
   "source": [
    "driver.get('https://www.ambitionbox.com/')"
   ]
  },
  {
   "cell_type": "code",
   "execution_count": null,
   "id": "f9462bae",
   "metadata": {},
   "outputs": [],
   "source": [
    "button_click = driver.find_element(By.CLASS_NAME,\"navItemLink\")\n",
    "button_click.click()"
   ]
  },
  {
   "cell_type": "code",
   "execution_count": null,
   "id": "8ecb4418",
   "metadata": {},
   "outputs": [],
   "source": [
    "#entering designation and location as required\n",
    "\n",
    "designation = driver.find_element(By.XPATH, \"/html/body/div/div/div/div[2]/div[1]/div[1]/div/div/div/div/span/input\")\n",
    "designation.send_keys('Data Scientist')"
   ]
  },
  {
   "cell_type": "code",
   "execution_count": null,
   "id": "8ca348b9",
   "metadata": {},
   "outputs": [],
   "source": [
    "button_click = driver.find_element(By.XPATH,\"/html/body/div/div/div/div[2]/div[1]/div[1]/div/div/div/button\")\n",
    "button_click.click()"
   ]
  },
  {
   "cell_type": "code",
   "execution_count": null,
   "id": "befd9de7",
   "metadata": {},
   "outputs": [],
   "source": [
    "button_click = driver.find_element(By.XPATH,\"/html/body/div/div/div/div[2]/div[1]/div[2]/div[1]/div/div/div/div[2]/div[1]/i\")\n",
    "button_click.click()"
   ]
  },
  {
   "cell_type": "code",
   "execution_count": null,
   "id": "76c9369b",
   "metadata": {},
   "outputs": [],
   "source": [
    "designation = driver.find_element(By.XPATH, \"/html/body/div/div/div/div[2]/div[1]/div[2]/div[1]/div/div/div/div[2]/div[2]/div/div[2]/input\")\n",
    "designation.send_keys('Noida')"
   ]
  },
  {
   "cell_type": "code",
   "execution_count": null,
   "id": "e5d8331d",
   "metadata": {},
   "outputs": [],
   "source": [
    "button_click = driver.find_element(By.XPATH,\"/html/body/div/div/div/div[2]/div[1]/div[2]/div[1]/div/div/div/div[2]/div[2]/div/div[3]/div[1]/div[1]/div/label\")\n",
    "button_click.click()"
   ]
  },
  {
   "cell_type": "code",
   "execution_count": null,
   "id": "47e89e60",
   "metadata": {},
   "outputs": [],
   "source": [
    "company = []\n",
    "nod =[]\n",
    "rating = []"
   ]
  },
  {
   "cell_type": "code",
   "execution_count": null,
   "id": "3f52289d",
   "metadata": {},
   "outputs": [],
   "source": [
    "company_tags = driver.find_elements(By.XPATH, '//p[@class=\"company body-medium\"]')\n",
    "for i in company_tags:\n",
    "    com=i.text\n",
    "    company.append(com)\n",
    "        \n",
    "\n",
    "nod_tags = driver.find_elements(By.XPATH, '//span[@class=\"body-small-l\"]')\n",
    "for i in nod_tags:\n",
    "    noofdays=i.text\n",
    "    nod.append(noofdays)\n",
    "        \n",
    "\n",
    "rate_tags = driver.find_elements(By.XPATH, '//span[@class=\"body-small\"]')\n",
    "for i in rate_tags:\n",
    "    rate=i.text\n",
    "    rating.append(rate)"
   ]
  },
  {
   "cell_type": "code",
   "execution_count": null,
   "id": "c854661a",
   "metadata": {},
   "outputs": [],
   "source": [
    "cf = pd.DataFrame(nod)\n",
    "cf"
   ]
  },
  {
   "cell_type": "code",
   "execution_count": null,
   "id": "f29207d3",
   "metadata": {},
   "outputs": [],
   "source": [
    "cf.drop(cf[cf[0] == \"via naukri.com\"].index,inplace=True)\n",
    "cf.drop(cf[cf[0] == \"via iimjobs.com\"].index,inplace=True)\n",
    "cf.drop(cf[cf[0] == \"via hirist.com\"].index,inplace=True)\n",
    "cf"
   ]
  },
  {
   "cell_type": "code",
   "execution_count": null,
   "id": "2beb579c",
   "metadata": {},
   "outputs": [],
   "source": [
    " gf = cf.reset_index()"
   ]
  },
  {
   "cell_type": "code",
   "execution_count": null,
   "id": "fc2df349",
   "metadata": {},
   "outputs": [],
   "source": [
    "gf.drop(columns = ['index'],inplace = True)\n",
    "gf"
   ]
  },
  {
   "cell_type": "code",
   "execution_count": null,
   "id": "0f82c45e",
   "metadata": {},
   "outputs": [],
   "source": [
    "df1 = gf.values.tolist()\n",
    "df1"
   ]
  },
  {
   "cell_type": "code",
   "execution_count": null,
   "id": "397a3cf2",
   "metadata": {},
   "outputs": [],
   "source": [
    "df_ambition=pd.DataFrame(list(zip(company, df1, rating)))\n",
    "df_ambition.columns = ['Comapny Name', 'no of days', 'Rating']\n",
    "df_ambition"
   ]
  },
  {
   "cell_type": "markdown",
   "id": "acf4939f",
   "metadata": {},
   "source": [
    "# Q10: Write a python program to scrape the salary data for Data Scientist designation.You have to scrape Company name, Number of salaries, Average salary, Minsalary, Max Salary.\n"
   ]
  },
  {
   "cell_type": "code",
   "execution_count": 104,
   "id": "283d7757",
   "metadata": {},
   "outputs": [],
   "source": [
    "import selenium\n",
    "import pandas as pd\n",
    "from selenium import webdriver\n",
    "import warnings\n",
    "warnings.filterwarnings('ignore')\n",
    "from selenium.common.exceptions import StaleElementReferenceException, NoSuchElementException\n",
    "from selenium.webdriver.common.by import By\n",
    "import time\n",
    "import numpy as np\n",
    "\n"
   ]
  },
  {
   "cell_type": "code",
   "execution_count": 105,
   "id": "82167400",
   "metadata": {},
   "outputs": [],
   "source": [
    "driver = webdriver.Chrome(r'C:\\chromedriver_win32\\chromedriver.exe')"
   ]
  },
  {
   "cell_type": "code",
   "execution_count": 106,
   "id": "4961d69f",
   "metadata": {},
   "outputs": [],
   "source": [
    "driver.get('https://www.ambitionbox.com/')"
   ]
  },
  {
   "cell_type": "code",
   "execution_count": 108,
   "id": "2be9a03a",
   "metadata": {},
   "outputs": [],
   "source": [
    "button_click = driver.find_element(By.XPATH,\"/html/body/div/div/div/div[1]/header/nav/ul/li[3]/span\")\n",
    "button_click.click()"
   ]
  },
  {
   "cell_type": "code",
   "execution_count": 109,
   "id": "f70ab54f",
   "metadata": {},
   "outputs": [],
   "source": [
    "button_click = driver.find_element(By.XPATH,\"/html/body/div/div/div/div[1]/header/nav/ul/li[3]/div/ul/li[1]/div\")\n",
    "button_click.click()"
   ]
  },
  {
   "cell_type": "code",
   "execution_count": 110,
   "id": "300c9087",
   "metadata": {},
   "outputs": [],
   "source": [
    "designation = driver.find_element(By.XPATH, \"/html/body/div/div/div/main/section[1]/div[2]/div[1]/span/input\")\n",
    "designation.send_keys('Data Scientist')"
   ]
  },
  {
   "cell_type": "code",
   "execution_count": 111,
   "id": "3daba854",
   "metadata": {},
   "outputs": [
    {
     "ename": "NoSuchElementException",
     "evalue": "Message: no such element: Unable to locate element: {\"method\":\"xpath\",\"selector\":\"/html/body/div/div/div/main/section[1]/div[2]/div[1]/span/div/div/div[1]\"}\n  (Session info: chrome=105.0.5195.102)\nStacktrace:\nBacktrace:\n\tOrdinal0 [0x0082DF13+2219795]\n\tOrdinal0 [0x007C2841+1779777]\n\tOrdinal0 [0x006D423D+803389]\n\tOrdinal0 [0x00703025+995365]\n\tOrdinal0 [0x007031EB+995819]\n\tOrdinal0 [0x00730F52+1183570]\n\tOrdinal0 [0x0071E844+1108036]\n\tOrdinal0 [0x0072F192+1175954]\n\tOrdinal0 [0x0071E616+1107478]\n\tOrdinal0 [0x006F7F89+950153]\n\tOrdinal0 [0x006F8F56+954198]\n\tGetHandleVerifier [0x00B22CB2+3040210]\n\tGetHandleVerifier [0x00B12BB4+2974420]\n\tGetHandleVerifier [0x008C6A0A+565546]\n\tGetHandleVerifier [0x008C5680+560544]\n\tOrdinal0 [0x007C9A5C+1808988]\n\tOrdinal0 [0x007CE3A8+1827752]\n\tOrdinal0 [0x007CE495+1827989]\n\tOrdinal0 [0x007D80A4+1867940]\n\tBaseThreadInitThunk [0x7725FA29+25]\n\tRtlGetAppContainerNamedObjectPath [0x77C97A9E+286]\n\tRtlGetAppContainerNamedObjectPath [0x77C97A6E+238]\n",
     "output_type": "error",
     "traceback": [
      "\u001b[1;31m---------------------------------------------------------------------------\u001b[0m",
      "\u001b[1;31mNoSuchElementException\u001b[0m                    Traceback (most recent call last)",
      "\u001b[1;32mC:\\Users\\NAYANP~1\\AppData\\Local\\Temp/ipykernel_11256/3260973593.py\u001b[0m in \u001b[0;36m<module>\u001b[1;34m\u001b[0m\n\u001b[1;32m----> 1\u001b[1;33m \u001b[0mbutton_click\u001b[0m \u001b[1;33m=\u001b[0m \u001b[0mdriver\u001b[0m\u001b[1;33m.\u001b[0m\u001b[0mfind_element\u001b[0m\u001b[1;33m(\u001b[0m\u001b[0mBy\u001b[0m\u001b[1;33m.\u001b[0m\u001b[0mXPATH\u001b[0m\u001b[1;33m,\u001b[0m\u001b[1;34m\"/html/body/div/div/div/main/section[1]/div[2]/div[1]/span/div/div/div[1]\"\u001b[0m\u001b[1;33m)\u001b[0m\u001b[1;33m\u001b[0m\u001b[1;33m\u001b[0m\u001b[0m\n\u001b[0m\u001b[0;32m      2\u001b[0m \u001b[0mbutton_click\u001b[0m\u001b[1;33m.\u001b[0m\u001b[0mclick\u001b[0m\u001b[1;33m(\u001b[0m\u001b[1;33m)\u001b[0m\u001b[1;33m\u001b[0m\u001b[1;33m\u001b[0m\u001b[0m\n",
      "\u001b[1;32m~\\anaconda3\\lib\\site-packages\\selenium\\webdriver\\remote\\webdriver.py\u001b[0m in \u001b[0;36mfind_element\u001b[1;34m(self, by, value)\u001b[0m\n\u001b[0;32m    853\u001b[0m             \u001b[0mvalue\u001b[0m \u001b[1;33m=\u001b[0m \u001b[1;34m'[name=\"%s\"]'\u001b[0m \u001b[1;33m%\u001b[0m \u001b[0mvalue\u001b[0m\u001b[1;33m\u001b[0m\u001b[1;33m\u001b[0m\u001b[0m\n\u001b[0;32m    854\u001b[0m \u001b[1;33m\u001b[0m\u001b[0m\n\u001b[1;32m--> 855\u001b[1;33m         return self.execute(Command.FIND_ELEMENT, {\n\u001b[0m\u001b[0;32m    856\u001b[0m             \u001b[1;34m'using'\u001b[0m\u001b[1;33m:\u001b[0m \u001b[0mby\u001b[0m\u001b[1;33m,\u001b[0m\u001b[1;33m\u001b[0m\u001b[1;33m\u001b[0m\u001b[0m\n\u001b[0;32m    857\u001b[0m             'value': value})['value']\n",
      "\u001b[1;32m~\\anaconda3\\lib\\site-packages\\selenium\\webdriver\\remote\\webdriver.py\u001b[0m in \u001b[0;36mexecute\u001b[1;34m(self, driver_command, params)\u001b[0m\n\u001b[0;32m    426\u001b[0m         \u001b[0mresponse\u001b[0m \u001b[1;33m=\u001b[0m \u001b[0mself\u001b[0m\u001b[1;33m.\u001b[0m\u001b[0mcommand_executor\u001b[0m\u001b[1;33m.\u001b[0m\u001b[0mexecute\u001b[0m\u001b[1;33m(\u001b[0m\u001b[0mdriver_command\u001b[0m\u001b[1;33m,\u001b[0m \u001b[0mparams\u001b[0m\u001b[1;33m)\u001b[0m\u001b[1;33m\u001b[0m\u001b[1;33m\u001b[0m\u001b[0m\n\u001b[0;32m    427\u001b[0m         \u001b[1;32mif\u001b[0m \u001b[0mresponse\u001b[0m\u001b[1;33m:\u001b[0m\u001b[1;33m\u001b[0m\u001b[1;33m\u001b[0m\u001b[0m\n\u001b[1;32m--> 428\u001b[1;33m             \u001b[0mself\u001b[0m\u001b[1;33m.\u001b[0m\u001b[0merror_handler\u001b[0m\u001b[1;33m.\u001b[0m\u001b[0mcheck_response\u001b[0m\u001b[1;33m(\u001b[0m\u001b[0mresponse\u001b[0m\u001b[1;33m)\u001b[0m\u001b[1;33m\u001b[0m\u001b[1;33m\u001b[0m\u001b[0m\n\u001b[0m\u001b[0;32m    429\u001b[0m             response['value'] = self._unwrap_value(\n\u001b[0;32m    430\u001b[0m                 response.get('value', None))\n",
      "\u001b[1;32m~\\anaconda3\\lib\\site-packages\\selenium\\webdriver\\remote\\errorhandler.py\u001b[0m in \u001b[0;36mcheck_response\u001b[1;34m(self, response)\u001b[0m\n\u001b[0;32m    241\u001b[0m                 \u001b[0malert_text\u001b[0m \u001b[1;33m=\u001b[0m \u001b[0mvalue\u001b[0m\u001b[1;33m[\u001b[0m\u001b[1;34m'alert'\u001b[0m\u001b[1;33m]\u001b[0m\u001b[1;33m.\u001b[0m\u001b[0mget\u001b[0m\u001b[1;33m(\u001b[0m\u001b[1;34m'text'\u001b[0m\u001b[1;33m)\u001b[0m\u001b[1;33m\u001b[0m\u001b[1;33m\u001b[0m\u001b[0m\n\u001b[0;32m    242\u001b[0m             \u001b[1;32mraise\u001b[0m \u001b[0mexception_class\u001b[0m\u001b[1;33m(\u001b[0m\u001b[0mmessage\u001b[0m\u001b[1;33m,\u001b[0m \u001b[0mscreen\u001b[0m\u001b[1;33m,\u001b[0m \u001b[0mstacktrace\u001b[0m\u001b[1;33m,\u001b[0m \u001b[0malert_text\u001b[0m\u001b[1;33m)\u001b[0m  \u001b[1;31m# type: ignore[call-arg]  # mypy is not smart enough here\u001b[0m\u001b[1;33m\u001b[0m\u001b[1;33m\u001b[0m\u001b[0m\n\u001b[1;32m--> 243\u001b[1;33m         \u001b[1;32mraise\u001b[0m \u001b[0mexception_class\u001b[0m\u001b[1;33m(\u001b[0m\u001b[0mmessage\u001b[0m\u001b[1;33m,\u001b[0m \u001b[0mscreen\u001b[0m\u001b[1;33m,\u001b[0m \u001b[0mstacktrace\u001b[0m\u001b[1;33m)\u001b[0m\u001b[1;33m\u001b[0m\u001b[1;33m\u001b[0m\u001b[0m\n\u001b[0m",
      "\u001b[1;31mNoSuchElementException\u001b[0m: Message: no such element: Unable to locate element: {\"method\":\"xpath\",\"selector\":\"/html/body/div/div/div/main/section[1]/div[2]/div[1]/span/div/div/div[1]\"}\n  (Session info: chrome=105.0.5195.102)\nStacktrace:\nBacktrace:\n\tOrdinal0 [0x0082DF13+2219795]\n\tOrdinal0 [0x007C2841+1779777]\n\tOrdinal0 [0x006D423D+803389]\n\tOrdinal0 [0x00703025+995365]\n\tOrdinal0 [0x007031EB+995819]\n\tOrdinal0 [0x00730F52+1183570]\n\tOrdinal0 [0x0071E844+1108036]\n\tOrdinal0 [0x0072F192+1175954]\n\tOrdinal0 [0x0071E616+1107478]\n\tOrdinal0 [0x006F7F89+950153]\n\tOrdinal0 [0x006F8F56+954198]\n\tGetHandleVerifier [0x00B22CB2+3040210]\n\tGetHandleVerifier [0x00B12BB4+2974420]\n\tGetHandleVerifier [0x008C6A0A+565546]\n\tGetHandleVerifier [0x008C5680+560544]\n\tOrdinal0 [0x007C9A5C+1808988]\n\tOrdinal0 [0x007CE3A8+1827752]\n\tOrdinal0 [0x007CE495+1827989]\n\tOrdinal0 [0x007D80A4+1867940]\n\tBaseThreadInitThunk [0x7725FA29+25]\n\tRtlGetAppContainerNamedObjectPath [0x77C97A9E+286]\n\tRtlGetAppContainerNamedObjectPath [0x77C97A6E+238]\n"
     ]
    }
   ],
   "source": [
    "button_click = driver.find_element(By.XPATH,\"/html/body/div/div/div/main/section[1]/div[2]/div[1]/span/div/div/div[1]\")\n",
    "button_click.click()"
   ]
  },
  {
   "cell_type": "code",
   "execution_count": 112,
   "id": "95e5cbc7",
   "metadata": {},
   "outputs": [],
   "source": [
    "company = []\n",
    "total_salary =[]\n",
    "average_salary = []\n",
    "minimum_salary = []\n",
    "exp_req = []"
   ]
  },
  {
   "cell_type": "code",
   "execution_count": 147,
   "id": "4858dc0c",
   "metadata": {},
   "outputs": [
    {
     "ename": "TypeError",
     "evalue": "cannot concatenate object of type '<class 'str'>'; only Series and DataFrame objs are valid",
     "output_type": "error",
     "traceback": [
      "\u001b[1;31m---------------------------------------------------------------------------\u001b[0m",
      "\u001b[1;31mTypeError\u001b[0m                                 Traceback (most recent call last)",
      "\u001b[1;32mC:\\Users\\NAYANP~1\\AppData\\Local\\Temp/ipykernel_11256/2347519758.py\u001b[0m in \u001b[0;36m<module>\u001b[1;34m\u001b[0m\n\u001b[0;32m      8\u001b[0m \u001b[1;32mfor\u001b[0m \u001b[0mi\u001b[0m \u001b[1;32min\u001b[0m \u001b[0mtsalary_tags\u001b[0m\u001b[1;33m:\u001b[0m\u001b[1;33m\u001b[0m\u001b[1;33m\u001b[0m\u001b[0m\n\u001b[0;32m      9\u001b[0m     \u001b[0mts\u001b[0m\u001b[1;33m=\u001b[0m\u001b[0mi\u001b[0m\u001b[1;33m.\u001b[0m\u001b[0mtext\u001b[0m\u001b[1;33m\u001b[0m\u001b[1;33m\u001b[0m\u001b[0m\n\u001b[1;32m---> 10\u001b[1;33m     \u001b[0mtotal_salary\u001b[0m\u001b[1;33m.\u001b[0m\u001b[0mappend\u001b[0m\u001b[1;33m(\u001b[0m\u001b[0mts\u001b[0m\u001b[1;33m)\u001b[0m\u001b[1;33m\u001b[0m\u001b[1;33m\u001b[0m\u001b[0m\n\u001b[0m\u001b[0;32m     11\u001b[0m \u001b[1;33m\u001b[0m\u001b[0m\n\u001b[0;32m     12\u001b[0m \u001b[1;33m\u001b[0m\u001b[0m\n",
      "\u001b[1;32m~\\anaconda3\\lib\\site-packages\\pandas\\core\\frame.py\u001b[0m in \u001b[0;36mappend\u001b[1;34m(self, other, ignore_index, verify_integrity, sort)\u001b[0m\n\u001b[0;32m   8963\u001b[0m             \u001b[0mto_concat\u001b[0m \u001b[1;33m=\u001b[0m \u001b[1;33m[\u001b[0m\u001b[0mself\u001b[0m\u001b[1;33m,\u001b[0m \u001b[0mother\u001b[0m\u001b[1;33m]\u001b[0m\u001b[1;33m\u001b[0m\u001b[1;33m\u001b[0m\u001b[0m\n\u001b[0;32m   8964\u001b[0m         return (\n\u001b[1;32m-> 8965\u001b[1;33m             concat(\n\u001b[0m\u001b[0;32m   8966\u001b[0m                 \u001b[0mto_concat\u001b[0m\u001b[1;33m,\u001b[0m\u001b[1;33m\u001b[0m\u001b[1;33m\u001b[0m\u001b[0m\n\u001b[0;32m   8967\u001b[0m                 \u001b[0mignore_index\u001b[0m\u001b[1;33m=\u001b[0m\u001b[0mignore_index\u001b[0m\u001b[1;33m,\u001b[0m\u001b[1;33m\u001b[0m\u001b[1;33m\u001b[0m\u001b[0m\n",
      "\u001b[1;32m~\\anaconda3\\lib\\site-packages\\pandas\\util\\_decorators.py\u001b[0m in \u001b[0;36mwrapper\u001b[1;34m(*args, **kwargs)\u001b[0m\n\u001b[0;32m    309\u001b[0m                     \u001b[0mstacklevel\u001b[0m\u001b[1;33m=\u001b[0m\u001b[0mstacklevel\u001b[0m\u001b[1;33m,\u001b[0m\u001b[1;33m\u001b[0m\u001b[1;33m\u001b[0m\u001b[0m\n\u001b[0;32m    310\u001b[0m                 )\n\u001b[1;32m--> 311\u001b[1;33m             \u001b[1;32mreturn\u001b[0m \u001b[0mfunc\u001b[0m\u001b[1;33m(\u001b[0m\u001b[1;33m*\u001b[0m\u001b[0margs\u001b[0m\u001b[1;33m,\u001b[0m \u001b[1;33m**\u001b[0m\u001b[0mkwargs\u001b[0m\u001b[1;33m)\u001b[0m\u001b[1;33m\u001b[0m\u001b[1;33m\u001b[0m\u001b[0m\n\u001b[0m\u001b[0;32m    312\u001b[0m \u001b[1;33m\u001b[0m\u001b[0m\n\u001b[0;32m    313\u001b[0m         \u001b[1;32mreturn\u001b[0m \u001b[0mwrapper\u001b[0m\u001b[1;33m\u001b[0m\u001b[1;33m\u001b[0m\u001b[0m\n",
      "\u001b[1;32m~\\anaconda3\\lib\\site-packages\\pandas\\core\\reshape\\concat.py\u001b[0m in \u001b[0;36mconcat\u001b[1;34m(objs, axis, join, ignore_index, keys, levels, names, verify_integrity, sort, copy)\u001b[0m\n\u001b[0;32m    292\u001b[0m     \u001b[0mValueError\u001b[0m\u001b[1;33m:\u001b[0m \u001b[0mIndexes\u001b[0m \u001b[0mhave\u001b[0m \u001b[0moverlapping\u001b[0m \u001b[0mvalues\u001b[0m\u001b[1;33m:\u001b[0m \u001b[1;33m[\u001b[0m\u001b[1;34m'a'\u001b[0m\u001b[1;33m]\u001b[0m\u001b[1;33m\u001b[0m\u001b[1;33m\u001b[0m\u001b[0m\n\u001b[0;32m    293\u001b[0m     \"\"\"\n\u001b[1;32m--> 294\u001b[1;33m     op = _Concatenator(\n\u001b[0m\u001b[0;32m    295\u001b[0m         \u001b[0mobjs\u001b[0m\u001b[1;33m,\u001b[0m\u001b[1;33m\u001b[0m\u001b[1;33m\u001b[0m\u001b[0m\n\u001b[0;32m    296\u001b[0m         \u001b[0maxis\u001b[0m\u001b[1;33m=\u001b[0m\u001b[0maxis\u001b[0m\u001b[1;33m,\u001b[0m\u001b[1;33m\u001b[0m\u001b[1;33m\u001b[0m\u001b[0m\n",
      "\u001b[1;32m~\\anaconda3\\lib\\site-packages\\pandas\\core\\reshape\\concat.py\u001b[0m in \u001b[0;36m__init__\u001b[1;34m(self, objs, axis, join, keys, levels, names, ignore_index, verify_integrity, copy, sort)\u001b[0m\n\u001b[0;32m    382\u001b[0m                     \u001b[1;34m\"only Series and DataFrame objs are valid\"\u001b[0m\u001b[1;33m\u001b[0m\u001b[1;33m\u001b[0m\u001b[0m\n\u001b[0;32m    383\u001b[0m                 )\n\u001b[1;32m--> 384\u001b[1;33m                 \u001b[1;32mraise\u001b[0m \u001b[0mTypeError\u001b[0m\u001b[1;33m(\u001b[0m\u001b[0mmsg\u001b[0m\u001b[1;33m)\u001b[0m\u001b[1;33m\u001b[0m\u001b[1;33m\u001b[0m\u001b[0m\n\u001b[0m\u001b[0;32m    385\u001b[0m \u001b[1;33m\u001b[0m\u001b[0m\n\u001b[0;32m    386\u001b[0m             \u001b[0mndims\u001b[0m\u001b[1;33m.\u001b[0m\u001b[0madd\u001b[0m\u001b[1;33m(\u001b[0m\u001b[0mobj\u001b[0m\u001b[1;33m.\u001b[0m\u001b[0mndim\u001b[0m\u001b[1;33m)\u001b[0m\u001b[1;33m\u001b[0m\u001b[1;33m\u001b[0m\u001b[0m\n",
      "\u001b[1;31mTypeError\u001b[0m: cannot concatenate object of type '<class 'str'>'; only Series and DataFrame objs are valid"
     ]
    }
   ],
   "source": [
    "company_tags = driver.find_elements(By.XPATH, '//a[@data-v-4c07f399]')\n",
    "for i in company_tags:\n",
    "    com=i.text\n",
    "    company.append(com.split('\\n'))\n",
    "        \n",
    "\n",
    "tsalary_tags = driver.find_elements(By.XPATH, '//div[@class=\"value body-medium\"]')\n",
    "for i in tsalary_tags:\n",
    "    ts=i.text\n",
    "    total_salary.append(ts)\n",
    "        \n",
    "\n",
    "asalary_tags = driver.find_elements(By.XPATH, '//p[@class=\"averageCtc\"]')\n",
    "for i in asalary_tags:\n",
    "    ass =i.text\n",
    "    average_salary.append(ass)\n",
    "    \n",
    "msalary_tags = driver.find_elements(By.XPATH, '//div[@class=\"value body-medium\"]')\n",
    "for i in msalary_tags:\n",
    "    ms=i.text\n",
    "    minimum_salary.append(ms)\n",
    "    \n",
    "ereq_tags = driver.find_elements(By.XPATH, '//div[@class=\"sbold-list-header\"]')\n",
    "for i in ereq_tags:\n",
    "    er=i.text\n",
    "    exp_req.append(er)"
   ]
  },
  {
   "cell_type": "code",
   "execution_count": 148,
   "id": "f4783255",
   "metadata": {},
   "outputs": [
    {
     "name": "stdout",
     "output_type": "stream",
     "text": [
      "10 10 10 10 10\n"
     ]
    }
   ],
   "source": [
    "print(len(company), len(total_salary), len(average_salary), len(minimum_salary), len(exp_req))"
   ]
  },
  {
   "cell_type": "code",
   "execution_count": 149,
   "id": "68531dd2",
   "metadata": {},
   "outputs": [
    {
     "data": {
      "text/html": [
       "<div>\n",
       "<style scoped>\n",
       "    .dataframe tbody tr th:only-of-type {\n",
       "        vertical-align: middle;\n",
       "    }\n",
       "\n",
       "    .dataframe tbody tr th {\n",
       "        vertical-align: top;\n",
       "    }\n",
       "\n",
       "    .dataframe thead th {\n",
       "        text-align: right;\n",
       "    }\n",
       "</style>\n",
       "<table border=\"1\" class=\"dataframe\">\n",
       "  <thead>\n",
       "    <tr style=\"text-align: right;\">\n",
       "      <th></th>\n",
       "      <th>Company Name</th>\n",
       "    </tr>\n",
       "  </thead>\n",
       "  <tbody>\n",
       "    <tr>\n",
       "      <th>0</th>\n",
       "      <td>Walmart</td>\n",
       "    </tr>\n",
       "    <tr>\n",
       "      <th>1</th>\n",
       "      <td>Ab Inbev</td>\n",
       "    </tr>\n",
       "    <tr>\n",
       "      <th>2</th>\n",
       "      <td>Optum</td>\n",
       "    </tr>\n",
       "    <tr>\n",
       "      <th>3</th>\n",
       "      <td>ZS</td>\n",
       "    </tr>\n",
       "    <tr>\n",
       "      <th>4</th>\n",
       "      <td>Fractal Analytics</td>\n",
       "    </tr>\n",
       "    <tr>\n",
       "      <th>5</th>\n",
       "      <td>Tiger Analytics</td>\n",
       "    </tr>\n",
       "    <tr>\n",
       "      <th>6</th>\n",
       "      <td>Sigmoid Analytics</td>\n",
       "    </tr>\n",
       "    <tr>\n",
       "      <th>7</th>\n",
       "      <td>Legato Health Technologies</td>\n",
       "    </tr>\n",
       "    <tr>\n",
       "      <th>8</th>\n",
       "      <td>HSBC</td>\n",
       "    </tr>\n",
       "    <tr>\n",
       "      <th>9</th>\n",
       "      <td>Tredence</td>\n",
       "    </tr>\n",
       "  </tbody>\n",
       "</table>\n",
       "</div>"
      ],
      "text/plain": [
       "                 Company Name\n",
       "0                     Walmart\n",
       "1                    Ab Inbev\n",
       "2                       Optum\n",
       "3                          ZS\n",
       "4           Fractal Analytics\n",
       "5             Tiger Analytics\n",
       "6           Sigmoid Analytics\n",
       "7  Legato Health Technologies\n",
       "8                        HSBC\n",
       "9                    Tredence"
      ]
     },
     "execution_count": 149,
     "metadata": {},
     "output_type": "execute_result"
    }
   ],
   "source": [
    "company = pd.DataFrame(company)\n",
    "company"
   ]
  },
  {
   "cell_type": "code",
   "execution_count": 150,
   "id": "3db41d33",
   "metadata": {},
   "outputs": [
    {
     "data": {
      "text/html": [
       "<div>\n",
       "<style scoped>\n",
       "    .dataframe tbody tr th:only-of-type {\n",
       "        vertical-align: middle;\n",
       "    }\n",
       "\n",
       "    .dataframe tbody tr th {\n",
       "        vertical-align: top;\n",
       "    }\n",
       "\n",
       "    .dataframe thead th {\n",
       "        text-align: right;\n",
       "    }\n",
       "</style>\n",
       "<table border=\"1\" class=\"dataframe\">\n",
       "  <thead>\n",
       "    <tr style=\"text-align: right;\">\n",
       "      <th></th>\n",
       "      <th>index</th>\n",
       "      <th>Total Salary</th>\n",
       "    </tr>\n",
       "  </thead>\n",
       "  <tbody>\n",
       "    <tr>\n",
       "      <th>0</th>\n",
       "      <td>1</td>\n",
       "      <td>₹ 45.0L</td>\n",
       "    </tr>\n",
       "    <tr>\n",
       "      <th>1</th>\n",
       "      <td>3</td>\n",
       "      <td>₹ 26.0L</td>\n",
       "    </tr>\n",
       "    <tr>\n",
       "      <th>2</th>\n",
       "      <td>5</td>\n",
       "      <td>₹ 22.6L</td>\n",
       "    </tr>\n",
       "    <tr>\n",
       "      <th>3</th>\n",
       "      <td>7</td>\n",
       "      <td>₹ 22.0L</td>\n",
       "    </tr>\n",
       "    <tr>\n",
       "      <th>4</th>\n",
       "      <td>9</td>\n",
       "      <td>₹ 23.0L</td>\n",
       "    </tr>\n",
       "    <tr>\n",
       "      <th>5</th>\n",
       "      <td>11</td>\n",
       "      <td>₹ 20.0L</td>\n",
       "    </tr>\n",
       "    <tr>\n",
       "      <th>6</th>\n",
       "      <td>13</td>\n",
       "      <td>₹ 19.7L</td>\n",
       "    </tr>\n",
       "    <tr>\n",
       "      <th>7</th>\n",
       "      <td>15</td>\n",
       "      <td>₹ 20.0L</td>\n",
       "    </tr>\n",
       "    <tr>\n",
       "      <th>8</th>\n",
       "      <td>17</td>\n",
       "      <td>₹ 18.0L</td>\n",
       "    </tr>\n",
       "    <tr>\n",
       "      <th>9</th>\n",
       "      <td>19</td>\n",
       "      <td>₹ 17.5L</td>\n",
       "    </tr>\n",
       "  </tbody>\n",
       "</table>\n",
       "</div>"
      ],
      "text/plain": [
       "   index Total Salary\n",
       "0      1      ₹ 45.0L\n",
       "1      3      ₹ 26.0L\n",
       "2      5      ₹ 22.6L\n",
       "3      7      ₹ 22.0L\n",
       "4      9      ₹ 23.0L\n",
       "5     11      ₹ 20.0L\n",
       "6     13      ₹ 19.7L\n",
       "7     15      ₹ 20.0L\n",
       "8     17      ₹ 18.0L\n",
       "9     19      ₹ 17.5L"
      ]
     },
     "execution_count": 150,
     "metadata": {},
     "output_type": "execute_result"
    }
   ],
   "source": [
    "total_salary = pd.DataFrame(total_salary)\n",
    "total_salary"
   ]
  },
  {
   "cell_type": "code",
   "execution_count": 151,
   "id": "26d58334",
   "metadata": {},
   "outputs": [
    {
     "data": {
      "text/html": [
       "<div>\n",
       "<style scoped>\n",
       "    .dataframe tbody tr th:only-of-type {\n",
       "        vertical-align: middle;\n",
       "    }\n",
       "\n",
       "    .dataframe tbody tr th {\n",
       "        vertical-align: top;\n",
       "    }\n",
       "\n",
       "    .dataframe thead th {\n",
       "        text-align: right;\n",
       "    }\n",
       "</style>\n",
       "<table border=\"1\" class=\"dataframe\">\n",
       "  <thead>\n",
       "    <tr style=\"text-align: right;\">\n",
       "      <th></th>\n",
       "      <th>Total Salary</th>\n",
       "    </tr>\n",
       "  </thead>\n",
       "  <tbody>\n",
       "    <tr>\n",
       "      <th>0</th>\n",
       "      <td>₹ 45.0L</td>\n",
       "    </tr>\n",
       "    <tr>\n",
       "      <th>1</th>\n",
       "      <td>₹ 26.0L</td>\n",
       "    </tr>\n",
       "    <tr>\n",
       "      <th>2</th>\n",
       "      <td>₹ 22.6L</td>\n",
       "    </tr>\n",
       "    <tr>\n",
       "      <th>3</th>\n",
       "      <td>₹ 22.0L</td>\n",
       "    </tr>\n",
       "    <tr>\n",
       "      <th>4</th>\n",
       "      <td>₹ 23.0L</td>\n",
       "    </tr>\n",
       "    <tr>\n",
       "      <th>5</th>\n",
       "      <td>₹ 20.0L</td>\n",
       "    </tr>\n",
       "    <tr>\n",
       "      <th>6</th>\n",
       "      <td>₹ 19.7L</td>\n",
       "    </tr>\n",
       "    <tr>\n",
       "      <th>7</th>\n",
       "      <td>₹ 20.0L</td>\n",
       "    </tr>\n",
       "    <tr>\n",
       "      <th>8</th>\n",
       "      <td>₹ 18.0L</td>\n",
       "    </tr>\n",
       "    <tr>\n",
       "      <th>9</th>\n",
       "      <td>₹ 17.5L</td>\n",
       "    </tr>\n",
       "  </tbody>\n",
       "</table>\n",
       "</div>"
      ],
      "text/plain": [
       "  Total Salary\n",
       "0      ₹ 45.0L\n",
       "1      ₹ 26.0L\n",
       "2      ₹ 22.6L\n",
       "3      ₹ 22.0L\n",
       "4      ₹ 23.0L\n",
       "5      ₹ 20.0L\n",
       "6      ₹ 19.7L\n",
       "7      ₹ 20.0L\n",
       "8      ₹ 18.0L\n",
       "9      ₹ 17.5L"
      ]
     },
     "execution_count": 151,
     "metadata": {},
     "output_type": "execute_result"
    }
   ],
   "source": [
    "total_salary.drop(columns = ['index'])"
   ]
  },
  {
   "cell_type": "code",
   "execution_count": 152,
   "id": "4b452080",
   "metadata": {},
   "outputs": [
    {
     "data": {
      "text/html": [
       "<div>\n",
       "<style scoped>\n",
       "    .dataframe tbody tr th:only-of-type {\n",
       "        vertical-align: middle;\n",
       "    }\n",
       "\n",
       "    .dataframe tbody tr th {\n",
       "        vertical-align: top;\n",
       "    }\n",
       "\n",
       "    .dataframe thead th {\n",
       "        text-align: right;\n",
       "    }\n",
       "</style>\n",
       "<table border=\"1\" class=\"dataframe\">\n",
       "  <thead>\n",
       "    <tr style=\"text-align: right;\">\n",
       "      <th></th>\n",
       "      <th>Average Salary</th>\n",
       "    </tr>\n",
       "  </thead>\n",
       "  <tbody>\n",
       "    <tr>\n",
       "      <th>0</th>\n",
       "      <td>₹ 32.3L</td>\n",
       "    </tr>\n",
       "    <tr>\n",
       "      <th>1</th>\n",
       "      <td>₹ 19.9L</td>\n",
       "    </tr>\n",
       "    <tr>\n",
       "      <th>2</th>\n",
       "      <td>₹ 16.4L</td>\n",
       "    </tr>\n",
       "    <tr>\n",
       "      <th>3</th>\n",
       "      <td>₹ 15.8L</td>\n",
       "    </tr>\n",
       "    <tr>\n",
       "      <th>4</th>\n",
       "      <td>₹ 15.4L</td>\n",
       "    </tr>\n",
       "    <tr>\n",
       "      <th>5</th>\n",
       "      <td>₹ 14.7L</td>\n",
       "    </tr>\n",
       "    <tr>\n",
       "      <th>6</th>\n",
       "      <td>₹ 14.7L</td>\n",
       "    </tr>\n",
       "    <tr>\n",
       "      <th>7</th>\n",
       "      <td>₹ 14.5L</td>\n",
       "    </tr>\n",
       "    <tr>\n",
       "      <th>8</th>\n",
       "      <td>₹ 14.0L</td>\n",
       "    </tr>\n",
       "    <tr>\n",
       "      <th>9</th>\n",
       "      <td>₹ 13.9L</td>\n",
       "    </tr>\n",
       "  </tbody>\n",
       "</table>\n",
       "</div>"
      ],
      "text/plain": [
       "  Average Salary\n",
       "0        ₹ 32.3L\n",
       "1        ₹ 19.9L\n",
       "2        ₹ 16.4L\n",
       "3        ₹ 15.8L\n",
       "4        ₹ 15.4L\n",
       "5        ₹ 14.7L\n",
       "6        ₹ 14.7L\n",
       "7        ₹ 14.5L\n",
       "8        ₹ 14.0L\n",
       "9        ₹ 13.9L"
      ]
     },
     "execution_count": 152,
     "metadata": {},
     "output_type": "execute_result"
    }
   ],
   "source": [
    "average_salary = pd.DataFrame(average_salary)\n",
    "average_salary.rename(columns={0:'Average Salary'}, inplace=True)\n",
    "average_salary"
   ]
  },
  {
   "cell_type": "code",
   "execution_count": 153,
   "id": "86d9535c",
   "metadata": {},
   "outputs": [
    {
     "data": {
      "text/html": [
       "<div>\n",
       "<style scoped>\n",
       "    .dataframe tbody tr th:only-of-type {\n",
       "        vertical-align: middle;\n",
       "    }\n",
       "\n",
       "    .dataframe tbody tr th {\n",
       "        vertical-align: top;\n",
       "    }\n",
       "\n",
       "    .dataframe thead th {\n",
       "        text-align: right;\n",
       "    }\n",
       "</style>\n",
       "<table border=\"1\" class=\"dataframe\">\n",
       "  <thead>\n",
       "    <tr style=\"text-align: right;\">\n",
       "      <th></th>\n",
       "      <th>level_0</th>\n",
       "      <th>index</th>\n",
       "      <th>Average Salary</th>\n",
       "    </tr>\n",
       "  </thead>\n",
       "  <tbody>\n",
       "    <tr>\n",
       "      <th>0</th>\n",
       "      <td>0</td>\n",
       "      <td>0</td>\n",
       "      <td>₹ 25.0L</td>\n",
       "    </tr>\n",
       "    <tr>\n",
       "      <th>1</th>\n",
       "      <td>1</td>\n",
       "      <td>2</td>\n",
       "      <td>₹ 15.0L</td>\n",
       "    </tr>\n",
       "    <tr>\n",
       "      <th>2</th>\n",
       "      <td>2</td>\n",
       "      <td>4</td>\n",
       "      <td>₹ 11.0L</td>\n",
       "    </tr>\n",
       "    <tr>\n",
       "      <th>3</th>\n",
       "      <td>3</td>\n",
       "      <td>6</td>\n",
       "      <td>₹ 11.0L</td>\n",
       "    </tr>\n",
       "    <tr>\n",
       "      <th>4</th>\n",
       "      <td>4</td>\n",
       "      <td>8</td>\n",
       "      <td>₹ 9.0L</td>\n",
       "    </tr>\n",
       "    <tr>\n",
       "      <th>5</th>\n",
       "      <td>5</td>\n",
       "      <td>10</td>\n",
       "      <td>₹ 9.0L</td>\n",
       "    </tr>\n",
       "    <tr>\n",
       "      <th>6</th>\n",
       "      <td>6</td>\n",
       "      <td>12</td>\n",
       "      <td>₹ 12.7L</td>\n",
       "    </tr>\n",
       "    <tr>\n",
       "      <th>7</th>\n",
       "      <td>7</td>\n",
       "      <td>14</td>\n",
       "      <td>₹ 11.0L</td>\n",
       "    </tr>\n",
       "    <tr>\n",
       "      <th>8</th>\n",
       "      <td>8</td>\n",
       "      <td>16</td>\n",
       "      <td>₹ 12.0L</td>\n",
       "    </tr>\n",
       "    <tr>\n",
       "      <th>9</th>\n",
       "      <td>9</td>\n",
       "      <td>18</td>\n",
       "      <td>₹ 8.8L</td>\n",
       "    </tr>\n",
       "  </tbody>\n",
       "</table>\n",
       "</div>"
      ],
      "text/plain": [
       "   level_0  index Average Salary\n",
       "0        0      0        ₹ 25.0L\n",
       "1        1      2        ₹ 15.0L\n",
       "2        2      4        ₹ 11.0L\n",
       "3        3      6        ₹ 11.0L\n",
       "4        4      8         ₹ 9.0L\n",
       "5        5     10         ₹ 9.0L\n",
       "6        6     12        ₹ 12.7L\n",
       "7        7     14        ₹ 11.0L\n",
       "8        8     16        ₹ 12.0L\n",
       "9        9     18         ₹ 8.8L"
      ]
     },
     "execution_count": 153,
     "metadata": {},
     "output_type": "execute_result"
    }
   ],
   "source": [
    "minimum_salary = pd.DataFrame(minimum_salary)\n",
    "minimum_salary"
   ]
  },
  {
   "cell_type": "code",
   "execution_count": 155,
   "id": "792f0a71",
   "metadata": {},
   "outputs": [
    {
     "data": {
      "text/html": [
       "<div>\n",
       "<style scoped>\n",
       "    .dataframe tbody tr th:only-of-type {\n",
       "        vertical-align: middle;\n",
       "    }\n",
       "\n",
       "    .dataframe tbody tr th {\n",
       "        vertical-align: top;\n",
       "    }\n",
       "\n",
       "    .dataframe thead th {\n",
       "        text-align: right;\n",
       "    }\n",
       "</style>\n",
       "<table border=\"1\" class=\"dataframe\">\n",
       "  <thead>\n",
       "    <tr style=\"text-align: right;\">\n",
       "      <th></th>\n",
       "      <th>Average Salary</th>\n",
       "    </tr>\n",
       "  </thead>\n",
       "  <tbody>\n",
       "    <tr>\n",
       "      <th>0</th>\n",
       "      <td>₹ 25.0L</td>\n",
       "    </tr>\n",
       "    <tr>\n",
       "      <th>1</th>\n",
       "      <td>₹ 15.0L</td>\n",
       "    </tr>\n",
       "    <tr>\n",
       "      <th>2</th>\n",
       "      <td>₹ 11.0L</td>\n",
       "    </tr>\n",
       "    <tr>\n",
       "      <th>3</th>\n",
       "      <td>₹ 11.0L</td>\n",
       "    </tr>\n",
       "    <tr>\n",
       "      <th>4</th>\n",
       "      <td>₹ 9.0L</td>\n",
       "    </tr>\n",
       "    <tr>\n",
       "      <th>5</th>\n",
       "      <td>₹ 9.0L</td>\n",
       "    </tr>\n",
       "    <tr>\n",
       "      <th>6</th>\n",
       "      <td>₹ 12.7L</td>\n",
       "    </tr>\n",
       "    <tr>\n",
       "      <th>7</th>\n",
       "      <td>₹ 11.0L</td>\n",
       "    </tr>\n",
       "    <tr>\n",
       "      <th>8</th>\n",
       "      <td>₹ 12.0L</td>\n",
       "    </tr>\n",
       "    <tr>\n",
       "      <th>9</th>\n",
       "      <td>₹ 8.8L</td>\n",
       "    </tr>\n",
       "  </tbody>\n",
       "</table>\n",
       "</div>"
      ],
      "text/plain": [
       "  Average Salary\n",
       "0        ₹ 25.0L\n",
       "1        ₹ 15.0L\n",
       "2        ₹ 11.0L\n",
       "3        ₹ 11.0L\n",
       "4         ₹ 9.0L\n",
       "5         ₹ 9.0L\n",
       "6        ₹ 12.7L\n",
       "7        ₹ 11.0L\n",
       "8        ₹ 12.0L\n",
       "9         ₹ 8.8L"
      ]
     },
     "execution_count": 155,
     "metadata": {},
     "output_type": "execute_result"
    }
   ],
   "source": [
    "minimum_salary.drop(columns = ['index', 'level_0'])"
   ]
  },
  {
   "cell_type": "code",
   "execution_count": 156,
   "id": "60dc7dcb",
   "metadata": {},
   "outputs": [
    {
     "data": {
      "text/html": [
       "<div>\n",
       "<style scoped>\n",
       "    .dataframe tbody tr th:only-of-type {\n",
       "        vertical-align: middle;\n",
       "    }\n",
       "\n",
       "    .dataframe tbody tr th {\n",
       "        vertical-align: top;\n",
       "    }\n",
       "\n",
       "    .dataframe thead th {\n",
       "        text-align: right;\n",
       "    }\n",
       "</style>\n",
       "<table border=\"1\" class=\"dataframe\">\n",
       "  <thead>\n",
       "    <tr style=\"text-align: right;\">\n",
       "      <th></th>\n",
       "      <th>Aexperience required</th>\n",
       "    </tr>\n",
       "  </thead>\n",
       "  <tbody>\n",
       "    <tr>\n",
       "      <th>0</th>\n",
       "      <td>3-4 yrs experience (based on 23 salaries)</td>\n",
       "    </tr>\n",
       "    <tr>\n",
       "      <th>1</th>\n",
       "      <td>2-4 yrs experience (based on 57 salaries)</td>\n",
       "    </tr>\n",
       "    <tr>\n",
       "      <th>2</th>\n",
       "      <td>2-4 yrs experience (based on 49 salaries)</td>\n",
       "    </tr>\n",
       "    <tr>\n",
       "      <th>3</th>\n",
       "      <td>1-2 yrs experience (based on 34 salaries)</td>\n",
       "    </tr>\n",
       "    <tr>\n",
       "      <th>4</th>\n",
       "      <td>2-4 yrs experience (based on 115 salaries)</td>\n",
       "    </tr>\n",
       "    <tr>\n",
       "      <th>5</th>\n",
       "      <td>2-4 yrs experience (based on 68 salaries)</td>\n",
       "    </tr>\n",
       "    <tr>\n",
       "      <th>6</th>\n",
       "      <td>1 yr experience (based on 10 salaries)</td>\n",
       "    </tr>\n",
       "    <tr>\n",
       "      <th>7</th>\n",
       "      <td>4 yrs experience (based on 11 salaries)</td>\n",
       "    </tr>\n",
       "    <tr>\n",
       "      <th>8</th>\n",
       "      <td>4 yrs experience (based on 10 salaries)</td>\n",
       "    </tr>\n",
       "    <tr>\n",
       "      <th>9</th>\n",
       "      <td>3 yrs experience (based on 14 salaries)</td>\n",
       "    </tr>\n",
       "  </tbody>\n",
       "</table>\n",
       "</div>"
      ],
      "text/plain": [
       "                         Aexperience required\n",
       "0   3-4 yrs experience (based on 23 salaries)\n",
       "1   2-4 yrs experience (based on 57 salaries)\n",
       "2   2-4 yrs experience (based on 49 salaries)\n",
       "3   1-2 yrs experience (based on 34 salaries)\n",
       "4  2-4 yrs experience (based on 115 salaries)\n",
       "5   2-4 yrs experience (based on 68 salaries)\n",
       "6      1 yr experience (based on 10 salaries)\n",
       "7     4 yrs experience (based on 11 salaries)\n",
       "8     4 yrs experience (based on 10 salaries)\n",
       "9     3 yrs experience (based on 14 salaries)"
      ]
     },
     "execution_count": 156,
     "metadata": {},
     "output_type": "execute_result"
    }
   ],
   "source": [
    "exp_req = pd.DataFrame(exp_req)\n",
    "exp_req.rename(columns={0:'experience required'}, inplace=True)\n",
    "exp_req"
   ]
  },
  {
   "cell_type": "code",
   "execution_count": 157,
   "id": "80020e70",
   "metadata": {},
   "outputs": [],
   "source": [
    "df = pd.concat([company, total_salary, average_salary, minimum_salary, exp_req], axis=1)"
   ]
  },
  {
   "cell_type": "code",
   "execution_count": 158,
   "id": "8a81d19c",
   "metadata": {},
   "outputs": [
    {
     "data": {
      "text/html": [
       "<div>\n",
       "<style scoped>\n",
       "    .dataframe tbody tr th:only-of-type {\n",
       "        vertical-align: middle;\n",
       "    }\n",
       "\n",
       "    .dataframe tbody tr th {\n",
       "        vertical-align: top;\n",
       "    }\n",
       "\n",
       "    .dataframe thead th {\n",
       "        text-align: right;\n",
       "    }\n",
       "</style>\n",
       "<table border=\"1\" class=\"dataframe\">\n",
       "  <thead>\n",
       "    <tr style=\"text-align: right;\">\n",
       "      <th></th>\n",
       "      <th>Company Name</th>\n",
       "      <th>index</th>\n",
       "      <th>Total Salary</th>\n",
       "      <th>Average Salary</th>\n",
       "      <th>level_0</th>\n",
       "      <th>index</th>\n",
       "      <th>Average Salary</th>\n",
       "      <th>Aexperience required</th>\n",
       "    </tr>\n",
       "  </thead>\n",
       "  <tbody>\n",
       "    <tr>\n",
       "      <th>0</th>\n",
       "      <td>Walmart</td>\n",
       "      <td>1</td>\n",
       "      <td>₹ 45.0L</td>\n",
       "      <td>₹ 32.3L</td>\n",
       "      <td>0</td>\n",
       "      <td>0</td>\n",
       "      <td>₹ 25.0L</td>\n",
       "      <td>3-4 yrs experience (based on 23 salaries)</td>\n",
       "    </tr>\n",
       "    <tr>\n",
       "      <th>1</th>\n",
       "      <td>Ab Inbev</td>\n",
       "      <td>3</td>\n",
       "      <td>₹ 26.0L</td>\n",
       "      <td>₹ 19.9L</td>\n",
       "      <td>1</td>\n",
       "      <td>2</td>\n",
       "      <td>₹ 15.0L</td>\n",
       "      <td>2-4 yrs experience (based on 57 salaries)</td>\n",
       "    </tr>\n",
       "    <tr>\n",
       "      <th>2</th>\n",
       "      <td>Optum</td>\n",
       "      <td>5</td>\n",
       "      <td>₹ 22.6L</td>\n",
       "      <td>₹ 16.4L</td>\n",
       "      <td>2</td>\n",
       "      <td>4</td>\n",
       "      <td>₹ 11.0L</td>\n",
       "      <td>2-4 yrs experience (based on 49 salaries)</td>\n",
       "    </tr>\n",
       "    <tr>\n",
       "      <th>3</th>\n",
       "      <td>ZS</td>\n",
       "      <td>7</td>\n",
       "      <td>₹ 22.0L</td>\n",
       "      <td>₹ 15.8L</td>\n",
       "      <td>3</td>\n",
       "      <td>6</td>\n",
       "      <td>₹ 11.0L</td>\n",
       "      <td>1-2 yrs experience (based on 34 salaries)</td>\n",
       "    </tr>\n",
       "    <tr>\n",
       "      <th>4</th>\n",
       "      <td>Fractal Analytics</td>\n",
       "      <td>9</td>\n",
       "      <td>₹ 23.0L</td>\n",
       "      <td>₹ 15.4L</td>\n",
       "      <td>4</td>\n",
       "      <td>8</td>\n",
       "      <td>₹ 9.0L</td>\n",
       "      <td>2-4 yrs experience (based on 115 salaries)</td>\n",
       "    </tr>\n",
       "    <tr>\n",
       "      <th>5</th>\n",
       "      <td>Tiger Analytics</td>\n",
       "      <td>11</td>\n",
       "      <td>₹ 20.0L</td>\n",
       "      <td>₹ 14.7L</td>\n",
       "      <td>5</td>\n",
       "      <td>10</td>\n",
       "      <td>₹ 9.0L</td>\n",
       "      <td>2-4 yrs experience (based on 68 salaries)</td>\n",
       "    </tr>\n",
       "    <tr>\n",
       "      <th>6</th>\n",
       "      <td>Sigmoid Analytics</td>\n",
       "      <td>13</td>\n",
       "      <td>₹ 19.7L</td>\n",
       "      <td>₹ 14.7L</td>\n",
       "      <td>6</td>\n",
       "      <td>12</td>\n",
       "      <td>₹ 12.7L</td>\n",
       "      <td>1 yr experience (based on 10 salaries)</td>\n",
       "    </tr>\n",
       "    <tr>\n",
       "      <th>7</th>\n",
       "      <td>Legato Health Technologies</td>\n",
       "      <td>15</td>\n",
       "      <td>₹ 20.0L</td>\n",
       "      <td>₹ 14.5L</td>\n",
       "      <td>7</td>\n",
       "      <td>14</td>\n",
       "      <td>₹ 11.0L</td>\n",
       "      <td>4 yrs experience (based on 11 salaries)</td>\n",
       "    </tr>\n",
       "    <tr>\n",
       "      <th>8</th>\n",
       "      <td>HSBC</td>\n",
       "      <td>17</td>\n",
       "      <td>₹ 18.0L</td>\n",
       "      <td>₹ 14.0L</td>\n",
       "      <td>8</td>\n",
       "      <td>16</td>\n",
       "      <td>₹ 12.0L</td>\n",
       "      <td>4 yrs experience (based on 10 salaries)</td>\n",
       "    </tr>\n",
       "    <tr>\n",
       "      <th>9</th>\n",
       "      <td>Tredence</td>\n",
       "      <td>19</td>\n",
       "      <td>₹ 17.5L</td>\n",
       "      <td>₹ 13.9L</td>\n",
       "      <td>9</td>\n",
       "      <td>18</td>\n",
       "      <td>₹ 8.8L</td>\n",
       "      <td>3 yrs experience (based on 14 salaries)</td>\n",
       "    </tr>\n",
       "  </tbody>\n",
       "</table>\n",
       "</div>"
      ],
      "text/plain": [
       "                 Company Name  index Total Salary Average Salary  level_0  \\\n",
       "0                     Walmart      1      ₹ 45.0L        ₹ 32.3L        0   \n",
       "1                    Ab Inbev      3      ₹ 26.0L        ₹ 19.9L        1   \n",
       "2                       Optum      5      ₹ 22.6L        ₹ 16.4L        2   \n",
       "3                          ZS      7      ₹ 22.0L        ₹ 15.8L        3   \n",
       "4           Fractal Analytics      9      ₹ 23.0L        ₹ 15.4L        4   \n",
       "5             Tiger Analytics     11      ₹ 20.0L        ₹ 14.7L        5   \n",
       "6           Sigmoid Analytics     13      ₹ 19.7L        ₹ 14.7L        6   \n",
       "7  Legato Health Technologies     15      ₹ 20.0L        ₹ 14.5L        7   \n",
       "8                        HSBC     17      ₹ 18.0L        ₹ 14.0L        8   \n",
       "9                    Tredence     19      ₹ 17.5L        ₹ 13.9L        9   \n",
       "\n",
       "   index Average Salary                        Aexperience required  \n",
       "0      0        ₹ 25.0L   3-4 yrs experience (based on 23 salaries)  \n",
       "1      2        ₹ 15.0L   2-4 yrs experience (based on 57 salaries)  \n",
       "2      4        ₹ 11.0L   2-4 yrs experience (based on 49 salaries)  \n",
       "3      6        ₹ 11.0L   1-2 yrs experience (based on 34 salaries)  \n",
       "4      8         ₹ 9.0L  2-4 yrs experience (based on 115 salaries)  \n",
       "5     10         ₹ 9.0L   2-4 yrs experience (based on 68 salaries)  \n",
       "6     12        ₹ 12.7L      1 yr experience (based on 10 salaries)  \n",
       "7     14        ₹ 11.0L     4 yrs experience (based on 11 salaries)  \n",
       "8     16        ₹ 12.0L     4 yrs experience (based on 10 salaries)  \n",
       "9     18         ₹ 8.8L     3 yrs experience (based on 14 salaries)  "
      ]
     },
     "execution_count": 158,
     "metadata": {},
     "output_type": "execute_result"
    }
   ],
   "source": [
    "df"
   ]
  },
  {
   "cell_type": "markdown",
   "id": "da118897",
   "metadata": {},
   "source": [
    "Cant figure out why index value is coming after droping it"
   ]
  },
  {
   "cell_type": "code",
   "execution_count": null,
   "id": "bb6610b1",
   "metadata": {},
   "outputs": [],
   "source": []
  }
 ],
 "metadata": {
  "kernelspec": {
   "display_name": "Python 3 (ipykernel)",
   "language": "python",
   "name": "python3"
  },
  "language_info": {
   "codemirror_mode": {
    "name": "ipython",
    "version": 3
   },
   "file_extension": ".py",
   "mimetype": "text/x-python",
   "name": "python",
   "nbconvert_exporter": "python",
   "pygments_lexer": "ipython3",
   "version": "3.9.7"
  },
  "latex_envs": {
   "LaTeX_envs_menu_present": true,
   "autoclose": false,
   "autocomplete": true,
   "bibliofile": "biblio.bib",
   "cite_by": "apalike",
   "current_citInitial": 1,
   "eqLabelWithNumbers": true,
   "eqNumInitial": 1,
   "hotkeys": {
    "equation": "Ctrl-E",
    "itemize": "Ctrl-I"
   },
   "labels_anchors": false,
   "latex_user_defs": false,
   "report_style_numbering": false,
   "user_envs_cfg": false
  }
 },
 "nbformat": 4,
 "nbformat_minor": 5
}
