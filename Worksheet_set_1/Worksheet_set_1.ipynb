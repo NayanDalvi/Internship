{
 "cells": [
  {
   "cell_type": "markdown",
   "id": "edb360db",
   "metadata": {},
   "source": [
    "# Q11. Write a python program to find the factorial of a number."
   ]
  },
  {
   "cell_type": "code",
   "execution_count": 1,
   "id": "445e4877",
   "metadata": {},
   "outputs": [
    {
     "name": "stdout",
     "output_type": "stream",
     "text": [
      "Kindly provide the number of which you want the factorial2\n"
     ]
    },
    {
     "data": {
      "text/plain": [
       "2"
      ]
     },
     "execution_count": 1,
     "metadata": {},
     "output_type": "execute_result"
    }
   ],
   "source": [
    "\n",
    "x = int(input('Kindly provide the number of which you want the factorial'))\n",
    "\n",
    "def factorial (x):\n",
    "    y = 1\n",
    "    while x > 0: \n",
    "        y=y*x\n",
    "        x=x-1\n",
    "        \n",
    "    return y\n",
    "\n",
    "factorial (x)\n",
    "    \n",
    "\n"
   ]
  },
  {
   "cell_type": "code",
   "execution_count": 3,
   "id": "78be0e7d",
   "metadata": {},
   "outputs": [
    {
     "name": "stdout",
     "output_type": "stream",
     "text": [
      " Enter the number 2\n"
     ]
    },
    {
     "data": {
      "text/plain": [
       "2"
      ]
     },
     "execution_count": 3,
     "metadata": {},
     "output_type": "execute_result"
    }
   ],
   "source": [
    "x = int(input(\" Enter the number \"))\n",
    "\n",
    "def fact(n): \n",
    "    y = 1\n",
    "    for i in range(1, n+1):\n",
    "        \n",
    "        y = y*i \n",
    "    \n",
    "    \n",
    "    return y \n",
    "    \n",
    "    \n",
    "fact(x)"
   ]
  },
  {
   "cell_type": "markdown",
   "id": "6bec0ab7",
   "metadata": {},
   "source": [
    "# Q12 Write a python program to find whether a number is prime or composite."
   ]
  },
  {
   "cell_type": "code",
   "execution_count": 16,
   "id": "27251622",
   "metadata": {},
   "outputs": [
    {
     "name": "stdout",
     "output_type": "stream",
     "text": [
      "Kindly provide the number to check its prime or composite number11\n",
      "11 is a prime number\n"
     ]
    }
   ],
   "source": [
    "x = int(input(\"Kindly provide the number to check its prime or composite number\"))\n",
    "def prime(x):\n",
    "    z = 0\n",
    "    for i in range(2, x):\n",
    "            if x % i == 0:\n",
    "                #print(x, \"is not a prime number\")\n",
    "                break\n",
    "        \n",
    "            else:\n",
    "                z = i\n",
    "                continue\n",
    "    if z == x-1:\n",
    "        return print(x, \"is a prime number\")\n",
    "    else:\n",
    "        return print(x, \"is not a prime number\")\n",
    "prime(x)\n",
    "        "
   ]
  },
  {
   "cell_type": "markdown",
   "id": "21c743f9",
   "metadata": {},
   "source": [
    "# Q13 Write a python program to check whether a given string is palindrome or not.\n"
   ]
  },
  {
   "cell_type": "code",
   "execution_count": 69,
   "id": "75b984cf",
   "metadata": {},
   "outputs": [
    {
     "name": "stdout",
     "output_type": "stream",
     "text": [
      "Kindly provide the word to check whether it is palindrome or notnayan\n",
      "nayan word is palindrome\n"
     ]
    }
   ],
   "source": [
    "x = input(\"Kindly provide the word to check whether it is palindrome or not\")\n",
    "y = len(x)\n",
    "def palindrome(x,y):\n",
    "    z = 0\n",
    "    for i in range (0,y):\n",
    "        if x[i] != x[y-1-i]:\n",
    "            #print(x, \"word is not a palindrome\")\n",
    "            break\n",
    "        else:     \n",
    "            z = i\n",
    "            continue\n",
    "    if z == y-1:\n",
    "        print(x, \"word is palindrome\")\n",
    "    else:\n",
    "        print(x, \"word is not palindrome\")\n",
    "\n",
    "palindrome(x,y)\n"
   ]
  },
  {
   "cell_type": "markdown",
   "id": "7b0e7cb4",
   "metadata": {},
   "source": [
    "# Q14 Write a Python program to get the third side of right-angled triangle from two given sides."
   ]
  },
  {
   "cell_type": "code",
   "execution_count": 83,
   "id": "db4bf565",
   "metadata": {},
   "outputs": [
    {
     "name": "stdout",
     "output_type": "stream",
     "text": [
      "Give the first side of the right angle triangle5\n",
      "Give the second side of the right angle triangle3\n"
     ]
    },
    {
     "data": {
      "text/plain": [
       "4"
      ]
     },
     "execution_count": 83,
     "metadata": {},
     "output_type": "execute_result"
    }
   ],
   "source": [
    "import numpy as np\n",
    "x = int(input(\"Give the first side of the right angle triangle\"))\n",
    "y = int(input(\"Give the second side of the right angle triangle\"))\n",
    "def rightangletriangle(x,y):\n",
    "    a = np.sqrt(x*x + y*y)\n",
    "    if x*x - y*y > 0:\n",
    "        b = np.sqrt(x*x - y*y)\n",
    "        if b - int(b) == 0:\n",
    "            return int(b)\n",
    "    if y*y-x*x > 0:\n",
    "        c = np.sqrt(y*y - x*x)\n",
    "        if c - int(c) == 0:\n",
    "            return int(c)\n",
    "    if a - int(a) == 0:\n",
    "        #print(\"The given combination of sides does not make right angle triangle\")\n",
    "        return int(a)\n",
    "    else:\n",
    "        print(\"The given combination of sides does not make right angle triangle\")\n",
    "        #return z\n",
    "rightangletriangle(x,y)"
   ]
  },
  {
   "cell_type": "markdown",
   "id": "cd584ad0",
   "metadata": {},
   "source": [
    "# Q15 Write a python program to print the frequency of each of the characters present in a given string."
   ]
  },
  {
   "cell_type": "code",
   "execution_count": 94,
   "id": "6361a844",
   "metadata": {},
   "outputs": [
    {
     "name": "stdout",
     "output_type": "stream",
     "text": [
      "Enter the wordsaurabh\n",
      "{'s': 1, 'a': 2, 'u': 1, 'r': 1, 'b': 1, 'h': 1}\n"
     ]
    }
   ],
   "source": [
    "x = input(\"Enter the word\")\n",
    "z = dict()\n",
    "for i in x:\n",
    "    z[i] = x.count(i)\n",
    "print(z)"
   ]
  }
 ],
 "metadata": {
  "kernelspec": {
   "display_name": "Python 3 (ipykernel)",
   "language": "python",
   "name": "python3"
  },
  "language_info": {
   "codemirror_mode": {
    "name": "ipython",
    "version": 3
   },
   "file_extension": ".py",
   "mimetype": "text/x-python",
   "name": "python",
   "nbconvert_exporter": "python",
   "pygments_lexer": "ipython3",
   "version": "3.9.7"
  },
  "latex_envs": {
   "LaTeX_envs_menu_present": true,
   "autoclose": false,
   "autocomplete": true,
   "bibliofile": "biblio.bib",
   "cite_by": "apalike",
   "current_citInitial": 1,
   "eqLabelWithNumbers": true,
   "eqNumInitial": 1,
   "hotkeys": {
    "equation": "Ctrl-E",
    "itemize": "Ctrl-I"
   },
   "labels_anchors": false,
   "latex_user_defs": false,
   "report_style_numbering": false,
   "user_envs_cfg": false
  }
 },
 "nbformat": 4,
 "nbformat_minor": 5
}
